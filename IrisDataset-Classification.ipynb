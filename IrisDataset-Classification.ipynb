{
 "cells": [
  {
   "cell_type": "markdown",
   "id": "9d9cca39",
   "metadata": {
    "_cell_guid": "b1076dfc-b9ad-4769-8c92-a6c4dae69d19",
    "_uuid": "8f2839f25d086af736a60e9eeb907d3b93b6e0e5",
    "papermill": {
     "duration": 0.010622,
     "end_time": "2023-04-03T20:25:50.020791",
     "exception": false,
     "start_time": "2023-04-03T20:25:50.010169",
     "status": "completed"
    },
    "tags": []
   },
   "source": [
    "# 0. Introducción\n",
    "El dataset `Iris` es un conjunto de datos de clasificación multiclase clásico y muy sencillo. Introducido por el estadístico y biólogo británico Ronald Fisher en su artículo de 1936 \"The use of multiple measurements in taxonomic problems\". El conjunto de datos de Iris contiene cuatro características (longitud y anchura de sépalos y pétalos) de 50 muestras de tres especies de flores Iris (Iris setosa, Iris virginica e Iris versicolor).\n",
    "\n",
    "El objetivo es construir un modelo que utilice las características para clasificar las flores con un máximo de precisión. Para alcanzar este objetivo, vamos a realizar un análisis exploratorio de datos para comprender los datos y elegir las mejores características.\n",
    "\n",
    "Este notebook se centrará principalmente en...\n",
    "\n",
    "https://www.kaggle.com/code/joeportilla/analisis-exploratorio-de-datos-dataset-iris\n",
    "\n",
    "![](https://s3.amazonaws.com/assets.datacamp.com/blog_assets/Machine+Learning+R/iris-machinelearning.png)\n",
    "Fuente: https://www.datacamp.com/tutorial/machine-learning-in-r\n",
    "\n",
    "### Referencias:\n",
    "- [Wikipedia](https://es.wikipedia.org/wiki/Conjunto_de_datos_flor_iris)\n",
    "- [UCI Machine Learning Repository](https://archive.ics.uci.edu/ml/datasets/Iris/)\n",
    "\n",
    "### Instructor:\n",
    "Joseph Santiago Portilla - Ingeniero Electrónico.\n",
    "- GitHub: https://github.com/JoePortilla\n",
    "- Twitter: https://twitter.com/JoePortilla\n",
    "- LinkedIn: https://www.linkedin.com/in/PortillaJoe\n",
    "- Kaggle: https://www.kaggle.com/joeportilla"
   ]
  },
  {
   "cell_type": "markdown",
   "id": "a61b27f3",
   "metadata": {
    "papermill": {
     "duration": 0.009215,
     "end_time": "2023-04-03T20:25:50.039805",
     "exception": false,
     "start_time": "2023-04-03T20:25:50.030590",
     "status": "completed"
    },
    "tags": []
   },
   "source": [
    "# 1. Ajustes Iniciales"
   ]
  },
  {
   "cell_type": "markdown",
   "id": "fc52bdbf",
   "metadata": {
    "papermill": {
     "duration": 0.009266,
     "end_time": "2023-04-03T20:25:50.058571",
     "exception": false,
     "start_time": "2023-04-03T20:25:50.049305",
     "status": "completed"
    },
    "tags": []
   },
   "source": [
    "## 1.1 Importación de Bibliotecas"
   ]
  },
  {
   "cell_type": "code",
   "execution_count": 1,
   "id": "86bc63d7",
   "metadata": {
    "execution": {
     "iopub.execute_input": "2023-04-03T20:25:50.081266Z",
     "iopub.status.busy": "2023-04-03T20:25:50.080364Z",
     "iopub.status.idle": "2023-04-03T20:25:51.152407Z",
     "shell.execute_reply": "2023-04-03T20:25:51.151362Z"
    },
    "papermill": {
     "duration": 1.086644,
     "end_time": "2023-04-03T20:25:51.154925",
     "exception": false,
     "start_time": "2023-04-03T20:25:50.068281",
     "status": "completed"
    },
    "tags": []
   },
   "outputs": [],
   "source": [
    "import numpy as np\n",
    "import pandas as pd\n",
    "import seaborn as sns\n",
    "import matplotlib.pyplot as plt"
   ]
  },
  {
   "cell_type": "markdown",
   "id": "92e533da",
   "metadata": {
    "papermill": {
     "duration": 0.009479,
     "end_time": "2023-04-03T20:25:51.174380",
     "exception": false,
     "start_time": "2023-04-03T20:25:51.164901",
     "status": "completed"
    },
    "tags": []
   },
   "source": [
    "## 1.2. Definición de estilo de gráficas"
   ]
  },
  {
   "cell_type": "code",
   "execution_count": 2,
   "id": "926c963b",
   "metadata": {
    "execution": {
     "iopub.execute_input": "2023-04-03T20:25:51.195965Z",
     "iopub.status.busy": "2023-04-03T20:25:51.195407Z",
     "iopub.status.idle": "2023-04-03T20:25:51.200873Z",
     "shell.execute_reply": "2023-04-03T20:25:51.199806Z"
    },
    "papermill": {
     "duration": 0.018939,
     "end_time": "2023-04-03T20:25:51.203035",
     "exception": false,
     "start_time": "2023-04-03T20:25:51.184096",
     "status": "completed"
    },
    "tags": []
   },
   "outputs": [],
   "source": [
    "# https://matplotlib.org/stable/gallery/style_sheets/style_sheets_reference.html\n",
    "plt.style.use(\"seaborn-whitegrid\")"
   ]
  },
  {
   "cell_type": "markdown",
   "id": "717c544b",
   "metadata": {
    "papermill": {
     "duration": 0.009564,
     "end_time": "2023-04-03T20:25:51.222906",
     "exception": false,
     "start_time": "2023-04-03T20:25:51.213342",
     "status": "completed"
    },
    "tags": []
   },
   "source": [
    "# 2. Carga de Dataset y Preprocesamiento"
   ]
  },
  {
   "cell_type": "markdown",
   "id": "b5e140f0",
   "metadata": {
    "papermill": {
     "duration": 0.009638,
     "end_time": "2023-04-03T20:25:51.242269",
     "exception": false,
     "start_time": "2023-04-03T20:25:51.232631",
     "status": "completed"
    },
    "tags": []
   },
   "source": [
    "## 2.1. Lectura de CSV"
   ]
  },
  {
   "cell_type": "code",
   "execution_count": 3,
   "id": "195ca159",
   "metadata": {
    "execution": {
     "iopub.execute_input": "2023-04-03T20:25:51.263718Z",
     "iopub.status.busy": "2023-04-03T20:25:51.263361Z",
     "iopub.status.idle": "2023-04-03T20:25:51.279186Z",
     "shell.execute_reply": "2023-04-03T20:25:51.278405Z"
    },
    "papermill": {
     "duration": 0.029278,
     "end_time": "2023-04-03T20:25:51.281273",
     "exception": false,
     "start_time": "2023-04-03T20:25:51.251995",
     "status": "completed"
    },
    "tags": []
   },
   "outputs": [],
   "source": [
    "df = pd.read_csv('/kaggle/input/iris/Iris.csv')"
   ]
  },
  {
   "cell_type": "code",
   "execution_count": 4,
   "id": "f736728b",
   "metadata": {
    "execution": {
     "iopub.execute_input": "2023-04-03T20:25:51.303273Z",
     "iopub.status.busy": "2023-04-03T20:25:51.302645Z",
     "iopub.status.idle": "2023-04-03T20:25:51.334886Z",
     "shell.execute_reply": "2023-04-03T20:25:51.333856Z"
    },
    "papermill": {
     "duration": 0.045608,
     "end_time": "2023-04-03T20:25:51.336997",
     "exception": false,
     "start_time": "2023-04-03T20:25:51.291389",
     "status": "completed"
    },
    "tags": []
   },
   "outputs": [
    {
     "data": {
      "text/html": [
       "<div>\n",
       "<style scoped>\n",
       "    .dataframe tbody tr th:only-of-type {\n",
       "        vertical-align: middle;\n",
       "    }\n",
       "\n",
       "    .dataframe tbody tr th {\n",
       "        vertical-align: top;\n",
       "    }\n",
       "\n",
       "    .dataframe thead th {\n",
       "        text-align: right;\n",
       "    }\n",
       "</style>\n",
       "<table border=\"1\" class=\"dataframe\">\n",
       "  <thead>\n",
       "    <tr style=\"text-align: right;\">\n",
       "      <th></th>\n",
       "      <th>Id</th>\n",
       "      <th>SepalLengthCm</th>\n",
       "      <th>SepalWidthCm</th>\n",
       "      <th>PetalLengthCm</th>\n",
       "      <th>PetalWidthCm</th>\n",
       "      <th>Species</th>\n",
       "    </tr>\n",
       "  </thead>\n",
       "  <tbody>\n",
       "    <tr>\n",
       "      <th>0</th>\n",
       "      <td>1</td>\n",
       "      <td>5.1</td>\n",
       "      <td>3.5</td>\n",
       "      <td>1.4</td>\n",
       "      <td>0.2</td>\n",
       "      <td>Iris-setosa</td>\n",
       "    </tr>\n",
       "    <tr>\n",
       "      <th>1</th>\n",
       "      <td>2</td>\n",
       "      <td>4.9</td>\n",
       "      <td>3.0</td>\n",
       "      <td>1.4</td>\n",
       "      <td>0.2</td>\n",
       "      <td>Iris-setosa</td>\n",
       "    </tr>\n",
       "    <tr>\n",
       "      <th>2</th>\n",
       "      <td>3</td>\n",
       "      <td>4.7</td>\n",
       "      <td>3.2</td>\n",
       "      <td>1.3</td>\n",
       "      <td>0.2</td>\n",
       "      <td>Iris-setosa</td>\n",
       "    </tr>\n",
       "    <tr>\n",
       "      <th>3</th>\n",
       "      <td>4</td>\n",
       "      <td>4.6</td>\n",
       "      <td>3.1</td>\n",
       "      <td>1.5</td>\n",
       "      <td>0.2</td>\n",
       "      <td>Iris-setosa</td>\n",
       "    </tr>\n",
       "    <tr>\n",
       "      <th>4</th>\n",
       "      <td>5</td>\n",
       "      <td>5.0</td>\n",
       "      <td>3.6</td>\n",
       "      <td>1.4</td>\n",
       "      <td>0.2</td>\n",
       "      <td>Iris-setosa</td>\n",
       "    </tr>\n",
       "    <tr>\n",
       "      <th>...</th>\n",
       "      <td>...</td>\n",
       "      <td>...</td>\n",
       "      <td>...</td>\n",
       "      <td>...</td>\n",
       "      <td>...</td>\n",
       "      <td>...</td>\n",
       "    </tr>\n",
       "    <tr>\n",
       "      <th>145</th>\n",
       "      <td>146</td>\n",
       "      <td>6.7</td>\n",
       "      <td>3.0</td>\n",
       "      <td>5.2</td>\n",
       "      <td>2.3</td>\n",
       "      <td>Iris-virginica</td>\n",
       "    </tr>\n",
       "    <tr>\n",
       "      <th>146</th>\n",
       "      <td>147</td>\n",
       "      <td>6.3</td>\n",
       "      <td>2.5</td>\n",
       "      <td>5.0</td>\n",
       "      <td>1.9</td>\n",
       "      <td>Iris-virginica</td>\n",
       "    </tr>\n",
       "    <tr>\n",
       "      <th>147</th>\n",
       "      <td>148</td>\n",
       "      <td>6.5</td>\n",
       "      <td>3.0</td>\n",
       "      <td>5.2</td>\n",
       "      <td>2.0</td>\n",
       "      <td>Iris-virginica</td>\n",
       "    </tr>\n",
       "    <tr>\n",
       "      <th>148</th>\n",
       "      <td>149</td>\n",
       "      <td>6.2</td>\n",
       "      <td>3.4</td>\n",
       "      <td>5.4</td>\n",
       "      <td>2.3</td>\n",
       "      <td>Iris-virginica</td>\n",
       "    </tr>\n",
       "    <tr>\n",
       "      <th>149</th>\n",
       "      <td>150</td>\n",
       "      <td>5.9</td>\n",
       "      <td>3.0</td>\n",
       "      <td>5.1</td>\n",
       "      <td>1.8</td>\n",
       "      <td>Iris-virginica</td>\n",
       "    </tr>\n",
       "  </tbody>\n",
       "</table>\n",
       "<p>150 rows × 6 columns</p>\n",
       "</div>"
      ],
      "text/plain": [
       "      Id  SepalLengthCm  SepalWidthCm  PetalLengthCm  PetalWidthCm  \\\n",
       "0      1            5.1           3.5            1.4           0.2   \n",
       "1      2            4.9           3.0            1.4           0.2   \n",
       "2      3            4.7           3.2            1.3           0.2   \n",
       "3      4            4.6           3.1            1.5           0.2   \n",
       "4      5            5.0           3.6            1.4           0.2   \n",
       "..   ...            ...           ...            ...           ...   \n",
       "145  146            6.7           3.0            5.2           2.3   \n",
       "146  147            6.3           2.5            5.0           1.9   \n",
       "147  148            6.5           3.0            5.2           2.0   \n",
       "148  149            6.2           3.4            5.4           2.3   \n",
       "149  150            5.9           3.0            5.1           1.8   \n",
       "\n",
       "            Species  \n",
       "0       Iris-setosa  \n",
       "1       Iris-setosa  \n",
       "2       Iris-setosa  \n",
       "3       Iris-setosa  \n",
       "4       Iris-setosa  \n",
       "..              ...  \n",
       "145  Iris-virginica  \n",
       "146  Iris-virginica  \n",
       "147  Iris-virginica  \n",
       "148  Iris-virginica  \n",
       "149  Iris-virginica  \n",
       "\n",
       "[150 rows x 6 columns]"
      ]
     },
     "execution_count": 4,
     "metadata": {},
     "output_type": "execute_result"
    }
   ],
   "source": [
    "df"
   ]
  },
  {
   "cell_type": "markdown",
   "id": "d4fda5cb",
   "metadata": {
    "papermill": {
     "duration": 0.010476,
     "end_time": "2023-04-03T20:25:51.358087",
     "exception": false,
     "start_time": "2023-04-03T20:25:51.347611",
     "status": "completed"
    },
    "tags": []
   },
   "source": [
    "## 2.2. Preprocesamiento"
   ]
  },
  {
   "cell_type": "markdown",
   "id": "931525cc",
   "metadata": {
    "papermill": {
     "duration": 0.010105,
     "end_time": "2023-04-03T20:25:51.378627",
     "exception": false,
     "start_time": "2023-04-03T20:25:51.368522",
     "status": "completed"
    },
    "tags": []
   },
   "source": [
    "### Renombramiento de columnas "
   ]
  },
  {
   "cell_type": "markdown",
   "id": "927f242d",
   "metadata": {
    "papermill": {
     "duration": 0.009946,
     "end_time": "2023-04-03T20:25:51.398971",
     "exception": false,
     "start_time": "2023-04-03T20:25:51.389025",
     "status": "completed"
    },
    "tags": []
   },
   "source": [
    "Se renombran las columnas para facilitar su uso."
   ]
  },
  {
   "cell_type": "code",
   "execution_count": 5,
   "id": "a804e443",
   "metadata": {
    "execution": {
     "iopub.execute_input": "2023-04-03T20:25:51.421417Z",
     "iopub.status.busy": "2023-04-03T20:25:51.420993Z",
     "iopub.status.idle": "2023-04-03T20:25:51.428290Z",
     "shell.execute_reply": "2023-04-03T20:25:51.427277Z"
    },
    "papermill": {
     "duration": 0.021083,
     "end_time": "2023-04-03T20:25:51.430373",
     "exception": false,
     "start_time": "2023-04-03T20:25:51.409290",
     "status": "completed"
    },
    "tags": []
   },
   "outputs": [],
   "source": [
    "df.rename({'SepalLengthCm':'sepal_l',\n",
    "           'SepalWidthCm':'sepal_w',\n",
    "           'PetalLengthCm':'petal_l',\n",
    "           'PetalWidthCm':'petal_w',\n",
    "           'Species':'species'},\n",
    "          axis=1, inplace=True)"
   ]
  },
  {
   "cell_type": "markdown",
   "id": "b4c7e181",
   "metadata": {
    "papermill": {
     "duration": 0.014179,
     "end_time": "2023-04-03T20:25:51.457744",
     "exception": false,
     "start_time": "2023-04-03T20:25:51.443565",
     "status": "completed"
    },
    "tags": []
   },
   "source": [
    "### Eliminación de columnas"
   ]
  },
  {
   "cell_type": "markdown",
   "id": "2486bb13",
   "metadata": {
    "papermill": {
     "duration": 0.013528,
     "end_time": "2023-04-03T20:25:51.483580",
     "exception": false,
     "start_time": "2023-04-03T20:25:51.470052",
     "status": "completed"
    },
    "tags": []
   },
   "source": [
    "Se elimina la columna 'id', ya que no es necesaria dentro del analisis."
   ]
  },
  {
   "cell_type": "code",
   "execution_count": 6,
   "id": "d9bb22a5",
   "metadata": {
    "execution": {
     "iopub.execute_input": "2023-04-03T20:25:51.509612Z",
     "iopub.status.busy": "2023-04-03T20:25:51.509120Z",
     "iopub.status.idle": "2023-04-03T20:25:51.516968Z",
     "shell.execute_reply": "2023-04-03T20:25:51.516158Z"
    },
    "papermill": {
     "duration": 0.023992,
     "end_time": "2023-04-03T20:25:51.519409",
     "exception": false,
     "start_time": "2023-04-03T20:25:51.495417",
     "status": "completed"
    },
    "tags": []
   },
   "outputs": [],
   "source": [
    "df.drop('Id', axis=1, inplace=True)"
   ]
  },
  {
   "cell_type": "markdown",
   "id": "db748ed3",
   "metadata": {
    "papermill": {
     "duration": 0.00987,
     "end_time": "2023-04-03T20:25:51.539936",
     "exception": false,
     "start_time": "2023-04-03T20:25:51.530066",
     "status": "completed"
    },
    "tags": []
   },
   "source": [
    "### Creación de target"
   ]
  },
  {
   "cell_type": "code",
   "execution_count": 7,
   "id": "c1f3a194",
   "metadata": {
    "execution": {
     "iopub.execute_input": "2023-04-03T20:25:51.562402Z",
     "iopub.status.busy": "2023-04-03T20:25:51.561554Z",
     "iopub.status.idle": "2023-04-03T20:25:51.571720Z",
     "shell.execute_reply": "2023-04-03T20:25:51.570650Z"
    },
    "papermill": {
     "duration": 0.024108,
     "end_time": "2023-04-03T20:25:51.574060",
     "exception": false,
     "start_time": "2023-04-03T20:25:51.549952",
     "status": "completed"
    },
    "tags": []
   },
   "outputs": [],
   "source": [
    "df['target'] = df['species'].map({'Iris-setosa':0, 'Iris-versicolor':1, 'Iris-virginica':2})"
   ]
  },
  {
   "cell_type": "code",
   "execution_count": 8,
   "id": "08cc496f",
   "metadata": {
    "execution": {
     "iopub.execute_input": "2023-04-03T20:25:51.596734Z",
     "iopub.status.busy": "2023-04-03T20:25:51.596135Z",
     "iopub.status.idle": "2023-04-03T20:25:51.609065Z",
     "shell.execute_reply": "2023-04-03T20:25:51.608084Z"
    },
    "papermill": {
     "duration": 0.026555,
     "end_time": "2023-04-03T20:25:51.611029",
     "exception": false,
     "start_time": "2023-04-03T20:25:51.584474",
     "status": "completed"
    },
    "tags": []
   },
   "outputs": [
    {
     "data": {
      "text/html": [
       "<div>\n",
       "<style scoped>\n",
       "    .dataframe tbody tr th:only-of-type {\n",
       "        vertical-align: middle;\n",
       "    }\n",
       "\n",
       "    .dataframe tbody tr th {\n",
       "        vertical-align: top;\n",
       "    }\n",
       "\n",
       "    .dataframe thead th {\n",
       "        text-align: right;\n",
       "    }\n",
       "</style>\n",
       "<table border=\"1\" class=\"dataframe\">\n",
       "  <thead>\n",
       "    <tr style=\"text-align: right;\">\n",
       "      <th></th>\n",
       "      <th>sepal_l</th>\n",
       "      <th>sepal_w</th>\n",
       "      <th>petal_l</th>\n",
       "      <th>petal_w</th>\n",
       "      <th>species</th>\n",
       "      <th>target</th>\n",
       "    </tr>\n",
       "  </thead>\n",
       "  <tbody>\n",
       "    <tr>\n",
       "      <th>0</th>\n",
       "      <td>5.1</td>\n",
       "      <td>3.5</td>\n",
       "      <td>1.4</td>\n",
       "      <td>0.2</td>\n",
       "      <td>Iris-setosa</td>\n",
       "      <td>0</td>\n",
       "    </tr>\n",
       "    <tr>\n",
       "      <th>1</th>\n",
       "      <td>4.9</td>\n",
       "      <td>3.0</td>\n",
       "      <td>1.4</td>\n",
       "      <td>0.2</td>\n",
       "      <td>Iris-setosa</td>\n",
       "      <td>0</td>\n",
       "    </tr>\n",
       "    <tr>\n",
       "      <th>2</th>\n",
       "      <td>4.7</td>\n",
       "      <td>3.2</td>\n",
       "      <td>1.3</td>\n",
       "      <td>0.2</td>\n",
       "      <td>Iris-setosa</td>\n",
       "      <td>0</td>\n",
       "    </tr>\n",
       "    <tr>\n",
       "      <th>3</th>\n",
       "      <td>4.6</td>\n",
       "      <td>3.1</td>\n",
       "      <td>1.5</td>\n",
       "      <td>0.2</td>\n",
       "      <td>Iris-setosa</td>\n",
       "      <td>0</td>\n",
       "    </tr>\n",
       "    <tr>\n",
       "      <th>4</th>\n",
       "      <td>5.0</td>\n",
       "      <td>3.6</td>\n",
       "      <td>1.4</td>\n",
       "      <td>0.2</td>\n",
       "      <td>Iris-setosa</td>\n",
       "      <td>0</td>\n",
       "    </tr>\n",
       "    <tr>\n",
       "      <th>5</th>\n",
       "      <td>5.4</td>\n",
       "      <td>3.9</td>\n",
       "      <td>1.7</td>\n",
       "      <td>0.4</td>\n",
       "      <td>Iris-setosa</td>\n",
       "      <td>0</td>\n",
       "    </tr>\n",
       "    <tr>\n",
       "      <th>6</th>\n",
       "      <td>4.6</td>\n",
       "      <td>3.4</td>\n",
       "      <td>1.4</td>\n",
       "      <td>0.3</td>\n",
       "      <td>Iris-setosa</td>\n",
       "      <td>0</td>\n",
       "    </tr>\n",
       "  </tbody>\n",
       "</table>\n",
       "</div>"
      ],
      "text/plain": [
       "   sepal_l  sepal_w  petal_l  petal_w      species  target\n",
       "0      5.1      3.5      1.4      0.2  Iris-setosa       0\n",
       "1      4.9      3.0      1.4      0.2  Iris-setosa       0\n",
       "2      4.7      3.2      1.3      0.2  Iris-setosa       0\n",
       "3      4.6      3.1      1.5      0.2  Iris-setosa       0\n",
       "4      5.0      3.6      1.4      0.2  Iris-setosa       0\n",
       "5      5.4      3.9      1.7      0.4  Iris-setosa       0\n",
       "6      4.6      3.4      1.4      0.3  Iris-setosa       0"
      ]
     },
     "execution_count": 8,
     "metadata": {},
     "output_type": "execute_result"
    }
   ],
   "source": [
    "df.head(7)"
   ]
  },
  {
   "cell_type": "markdown",
   "id": "39d2140a",
   "metadata": {
    "papermill": {
     "duration": 0.009858,
     "end_time": "2023-04-03T20:25:51.631375",
     "exception": false,
     "start_time": "2023-04-03T20:25:51.621517",
     "status": "completed"
    },
    "tags": []
   },
   "source": [
    "# 3. Feature Engineering"
   ]
  },
  {
   "cell_type": "markdown",
   "id": "fcd19873",
   "metadata": {
    "papermill": {
     "duration": 0.009815,
     "end_time": "2023-04-03T20:25:51.651345",
     "exception": false,
     "start_time": "2023-04-03T20:25:51.641530",
     "status": "completed"
    },
    "tags": []
   },
   "source": [
    "We'll use the petal length and width only for this analysis"
   ]
  },
  {
   "cell_type": "code",
   "execution_count": 9,
   "id": "9d8ad061",
   "metadata": {
    "execution": {
     "iopub.execute_input": "2023-04-03T20:25:51.673543Z",
     "iopub.status.busy": "2023-04-03T20:25:51.673131Z",
     "iopub.status.idle": "2023-04-03T20:25:51.679107Z",
     "shell.execute_reply": "2023-04-03T20:25:51.678008Z"
    },
    "papermill": {
     "duration": 0.019583,
     "end_time": "2023-04-03T20:25:51.681139",
     "exception": false,
     "start_time": "2023-04-03T20:25:51.661556",
     "status": "completed"
    },
    "tags": []
   },
   "outputs": [],
   "source": [
    "df_model = df.drop(['sepal_l','sepal_w'], axis=1)"
   ]
  },
  {
   "cell_type": "code",
   "execution_count": 10,
   "id": "41cb3f2e",
   "metadata": {
    "execution": {
     "iopub.execute_input": "2023-04-03T20:25:51.704778Z",
     "iopub.status.busy": "2023-04-03T20:25:51.703719Z",
     "iopub.status.idle": "2023-04-03T20:25:51.717106Z",
     "shell.execute_reply": "2023-04-03T20:25:51.716097Z"
    },
    "papermill": {
     "duration": 0.027194,
     "end_time": "2023-04-03T20:25:51.719011",
     "exception": false,
     "start_time": "2023-04-03T20:25:51.691817",
     "status": "completed"
    },
    "tags": []
   },
   "outputs": [
    {
     "data": {
      "text/html": [
       "<div>\n",
       "<style scoped>\n",
       "    .dataframe tbody tr th:only-of-type {\n",
       "        vertical-align: middle;\n",
       "    }\n",
       "\n",
       "    .dataframe tbody tr th {\n",
       "        vertical-align: top;\n",
       "    }\n",
       "\n",
       "    .dataframe thead th {\n",
       "        text-align: right;\n",
       "    }\n",
       "</style>\n",
       "<table border=\"1\" class=\"dataframe\">\n",
       "  <thead>\n",
       "    <tr style=\"text-align: right;\">\n",
       "      <th></th>\n",
       "      <th>petal_l</th>\n",
       "      <th>petal_w</th>\n",
       "      <th>species</th>\n",
       "      <th>target</th>\n",
       "    </tr>\n",
       "  </thead>\n",
       "  <tbody>\n",
       "    <tr>\n",
       "      <th>0</th>\n",
       "      <td>1.4</td>\n",
       "      <td>0.2</td>\n",
       "      <td>Iris-setosa</td>\n",
       "      <td>0</td>\n",
       "    </tr>\n",
       "    <tr>\n",
       "      <th>1</th>\n",
       "      <td>1.4</td>\n",
       "      <td>0.2</td>\n",
       "      <td>Iris-setosa</td>\n",
       "      <td>0</td>\n",
       "    </tr>\n",
       "    <tr>\n",
       "      <th>2</th>\n",
       "      <td>1.3</td>\n",
       "      <td>0.2</td>\n",
       "      <td>Iris-setosa</td>\n",
       "      <td>0</td>\n",
       "    </tr>\n",
       "    <tr>\n",
       "      <th>3</th>\n",
       "      <td>1.5</td>\n",
       "      <td>0.2</td>\n",
       "      <td>Iris-setosa</td>\n",
       "      <td>0</td>\n",
       "    </tr>\n",
       "    <tr>\n",
       "      <th>4</th>\n",
       "      <td>1.4</td>\n",
       "      <td>0.2</td>\n",
       "      <td>Iris-setosa</td>\n",
       "      <td>0</td>\n",
       "    </tr>\n",
       "    <tr>\n",
       "      <th>...</th>\n",
       "      <td>...</td>\n",
       "      <td>...</td>\n",
       "      <td>...</td>\n",
       "      <td>...</td>\n",
       "    </tr>\n",
       "    <tr>\n",
       "      <th>145</th>\n",
       "      <td>5.2</td>\n",
       "      <td>2.3</td>\n",
       "      <td>Iris-virginica</td>\n",
       "      <td>2</td>\n",
       "    </tr>\n",
       "    <tr>\n",
       "      <th>146</th>\n",
       "      <td>5.0</td>\n",
       "      <td>1.9</td>\n",
       "      <td>Iris-virginica</td>\n",
       "      <td>2</td>\n",
       "    </tr>\n",
       "    <tr>\n",
       "      <th>147</th>\n",
       "      <td>5.2</td>\n",
       "      <td>2.0</td>\n",
       "      <td>Iris-virginica</td>\n",
       "      <td>2</td>\n",
       "    </tr>\n",
       "    <tr>\n",
       "      <th>148</th>\n",
       "      <td>5.4</td>\n",
       "      <td>2.3</td>\n",
       "      <td>Iris-virginica</td>\n",
       "      <td>2</td>\n",
       "    </tr>\n",
       "    <tr>\n",
       "      <th>149</th>\n",
       "      <td>5.1</td>\n",
       "      <td>1.8</td>\n",
       "      <td>Iris-virginica</td>\n",
       "      <td>2</td>\n",
       "    </tr>\n",
       "  </tbody>\n",
       "</table>\n",
       "<p>150 rows × 4 columns</p>\n",
       "</div>"
      ],
      "text/plain": [
       "     petal_l  petal_w         species  target\n",
       "0        1.4      0.2     Iris-setosa       0\n",
       "1        1.4      0.2     Iris-setosa       0\n",
       "2        1.3      0.2     Iris-setosa       0\n",
       "3        1.5      0.2     Iris-setosa       0\n",
       "4        1.4      0.2     Iris-setosa       0\n",
       "..       ...      ...             ...     ...\n",
       "145      5.2      2.3  Iris-virginica       2\n",
       "146      5.0      1.9  Iris-virginica       2\n",
       "147      5.2      2.0  Iris-virginica       2\n",
       "148      5.4      2.3  Iris-virginica       2\n",
       "149      5.1      1.8  Iris-virginica       2\n",
       "\n",
       "[150 rows x 4 columns]"
      ]
     },
     "execution_count": 10,
     "metadata": {},
     "output_type": "execute_result"
    }
   ],
   "source": [
    "df_model"
   ]
  },
  {
   "cell_type": "markdown",
   "id": "60a340e2",
   "metadata": {
    "papermill": {
     "duration": 0.011205,
     "end_time": "2023-04-03T20:25:51.740951",
     "exception": false,
     "start_time": "2023-04-03T20:25:51.729746",
     "status": "completed"
    },
    "tags": []
   },
   "source": [
    "# 4. Preparación del dataset de entrenamiento"
   ]
  },
  {
   "cell_type": "code",
   "execution_count": 11,
   "id": "5ba156d8",
   "metadata": {
    "execution": {
     "iopub.execute_input": "2023-04-03T20:25:51.764066Z",
     "iopub.status.busy": "2023-04-03T20:25:51.763674Z",
     "iopub.status.idle": "2023-04-03T20:25:51.769629Z",
     "shell.execute_reply": "2023-04-03T20:25:51.768357Z"
    },
    "papermill": {
     "duration": 0.020272,
     "end_time": "2023-04-03T20:25:51.771791",
     "exception": false,
     "start_time": "2023-04-03T20:25:51.751519",
     "status": "completed"
    },
    "tags": []
   },
   "outputs": [],
   "source": [
    "X = df_model.drop(['species','target'], axis=1)\n",
    "Y = df_model['target']"
   ]
  },
  {
   "cell_type": "code",
   "execution_count": 12,
   "id": "347c1bb2",
   "metadata": {
    "execution": {
     "iopub.execute_input": "2023-04-03T20:25:51.795069Z",
     "iopub.status.busy": "2023-04-03T20:25:51.794693Z",
     "iopub.status.idle": "2023-04-03T20:25:51.804784Z",
     "shell.execute_reply": "2023-04-03T20:25:51.803648Z"
    },
    "papermill": {
     "duration": 0.024729,
     "end_time": "2023-04-03T20:25:51.807297",
     "exception": false,
     "start_time": "2023-04-03T20:25:51.782568",
     "status": "completed"
    },
    "tags": []
   },
   "outputs": [
    {
     "data": {
      "text/html": [
       "<div>\n",
       "<style scoped>\n",
       "    .dataframe tbody tr th:only-of-type {\n",
       "        vertical-align: middle;\n",
       "    }\n",
       "\n",
       "    .dataframe tbody tr th {\n",
       "        vertical-align: top;\n",
       "    }\n",
       "\n",
       "    .dataframe thead th {\n",
       "        text-align: right;\n",
       "    }\n",
       "</style>\n",
       "<table border=\"1\" class=\"dataframe\">\n",
       "  <thead>\n",
       "    <tr style=\"text-align: right;\">\n",
       "      <th></th>\n",
       "      <th>petal_l</th>\n",
       "      <th>petal_w</th>\n",
       "    </tr>\n",
       "  </thead>\n",
       "  <tbody>\n",
       "    <tr>\n",
       "      <th>0</th>\n",
       "      <td>1.4</td>\n",
       "      <td>0.2</td>\n",
       "    </tr>\n",
       "    <tr>\n",
       "      <th>1</th>\n",
       "      <td>1.4</td>\n",
       "      <td>0.2</td>\n",
       "    </tr>\n",
       "    <tr>\n",
       "      <th>2</th>\n",
       "      <td>1.3</td>\n",
       "      <td>0.2</td>\n",
       "    </tr>\n",
       "    <tr>\n",
       "      <th>3</th>\n",
       "      <td>1.5</td>\n",
       "      <td>0.2</td>\n",
       "    </tr>\n",
       "    <tr>\n",
       "      <th>4</th>\n",
       "      <td>1.4</td>\n",
       "      <td>0.2</td>\n",
       "    </tr>\n",
       "  </tbody>\n",
       "</table>\n",
       "</div>"
      ],
      "text/plain": [
       "   petal_l  petal_w\n",
       "0      1.4      0.2\n",
       "1      1.4      0.2\n",
       "2      1.3      0.2\n",
       "3      1.5      0.2\n",
       "4      1.4      0.2"
      ]
     },
     "execution_count": 12,
     "metadata": {},
     "output_type": "execute_result"
    }
   ],
   "source": [
    "X.head()"
   ]
  },
  {
   "cell_type": "code",
   "execution_count": 13,
   "id": "5401f78a",
   "metadata": {
    "execution": {
     "iopub.execute_input": "2023-04-03T20:25:51.831675Z",
     "iopub.status.busy": "2023-04-03T20:25:51.831120Z",
     "iopub.status.idle": "2023-04-03T20:25:51.836274Z",
     "shell.execute_reply": "2023-04-03T20:25:51.835192Z"
    },
    "papermill": {
     "duration": 0.019839,
     "end_time": "2023-04-03T20:25:51.838209",
     "exception": false,
     "start_time": "2023-04-03T20:25:51.818370",
     "status": "completed"
    },
    "tags": []
   },
   "outputs": [],
   "source": [
    "X = X.values\n",
    "Y = Y.values"
   ]
  },
  {
   "cell_type": "code",
   "execution_count": 14,
   "id": "9e762d2f",
   "metadata": {
    "execution": {
     "iopub.execute_input": "2023-04-03T20:25:51.863789Z",
     "iopub.status.busy": "2023-04-03T20:25:51.862577Z",
     "iopub.status.idle": "2023-04-03T20:25:51.870457Z",
     "shell.execute_reply": "2023-04-03T20:25:51.869161Z"
    },
    "papermill": {
     "duration": 0.022745,
     "end_time": "2023-04-03T20:25:51.872601",
     "exception": false,
     "start_time": "2023-04-03T20:25:51.849856",
     "status": "completed"
    },
    "tags": []
   },
   "outputs": [
    {
     "data": {
      "text/plain": [
       "array([0, 0, 0, 0, 0, 0, 0, 0, 0, 0, 0, 0, 0, 0, 0, 0, 0, 0, 0, 0, 0, 0,\n",
       "       0, 0, 0, 0, 0, 0, 0, 0, 0, 0, 0, 0, 0, 0, 0, 0, 0, 0, 0, 0, 0, 0,\n",
       "       0, 0, 0, 0, 0, 0, 1, 1, 1, 1, 1, 1, 1, 1, 1, 1, 1, 1, 1, 1, 1, 1,\n",
       "       1, 1, 1, 1, 1, 1, 1, 1, 1, 1, 1, 1, 1, 1, 1, 1, 1, 1, 1, 1, 1, 1,\n",
       "       1, 1, 1, 1, 1, 1, 1, 1, 1, 1, 1, 1, 2, 2, 2, 2, 2, 2, 2, 2, 2, 2,\n",
       "       2, 2, 2, 2, 2, 2, 2, 2, 2, 2, 2, 2, 2, 2, 2, 2, 2, 2, 2, 2, 2, 2,\n",
       "       2, 2, 2, 2, 2, 2, 2, 2, 2, 2, 2, 2, 2, 2, 2, 2, 2, 2])"
      ]
     },
     "execution_count": 14,
     "metadata": {},
     "output_type": "execute_result"
    }
   ],
   "source": [
    "Y"
   ]
  },
  {
   "cell_type": "markdown",
   "id": "c558d045",
   "metadata": {
    "papermill": {
     "duration": 0.010887,
     "end_time": "2023-04-03T20:25:51.894649",
     "exception": false,
     "start_time": "2023-04-03T20:25:51.883762",
     "status": "completed"
    },
    "tags": []
   },
   "source": [
    "# 5. Baseline Model"
   ]
  },
  {
   "cell_type": "code",
   "execution_count": null,
   "id": "4c9dddc0",
   "metadata": {
    "papermill": {
     "duration": 0.010865,
     "end_time": "2023-04-03T20:25:51.916841",
     "exception": false,
     "start_time": "2023-04-03T20:25:51.905976",
     "status": "completed"
    },
    "tags": []
   },
   "outputs": [],
   "source": []
  },
  {
   "cell_type": "markdown",
   "id": "5f33cb57",
   "metadata": {
    "papermill": {
     "duration": 0.010787,
     "end_time": "2023-04-03T20:25:51.939248",
     "exception": false,
     "start_time": "2023-04-03T20:25:51.928461",
     "status": "completed"
    },
    "tags": []
   },
   "source": [
    "# 6. Modelo Manual"
   ]
  },
  {
   "cell_type": "code",
   "execution_count": 15,
   "id": "938d9a22",
   "metadata": {
    "execution": {
     "iopub.execute_input": "2023-04-03T20:25:51.962898Z",
     "iopub.status.busy": "2023-04-03T20:25:51.962532Z",
     "iopub.status.idle": "2023-04-03T20:25:51.969061Z",
     "shell.execute_reply": "2023-04-03T20:25:51.967656Z"
    },
    "papermill": {
     "duration": 0.020978,
     "end_time": "2023-04-03T20:25:51.971286",
     "exception": false,
     "start_time": "2023-04-03T20:25:51.950308",
     "status": "completed"
    },
    "tags": []
   },
   "outputs": [],
   "source": [
    "def manual_model(petal_l):\n",
    "    if petal_l < 2.5:\n",
    "        return 0\n",
    "    elif petal_l < 5:\n",
    "        return 1\n",
    "    else:\n",
    "        return 2"
   ]
  },
  {
   "cell_type": "code",
   "execution_count": 16,
   "id": "0a3bf464",
   "metadata": {
    "execution": {
     "iopub.execute_input": "2023-04-03T20:25:51.995008Z",
     "iopub.status.busy": "2023-04-03T20:25:51.994651Z",
     "iopub.status.idle": "2023-04-03T20:25:52.003417Z",
     "shell.execute_reply": "2023-04-03T20:25:52.002103Z"
    },
    "papermill": {
     "duration": 0.023127,
     "end_time": "2023-04-03T20:25:52.005607",
     "exception": false,
     "start_time": "2023-04-03T20:25:51.982480",
     "status": "completed"
    },
    "tags": []
   },
   "outputs": [
    {
     "data": {
      "text/plain": [
       "array([1.4, 1.4, 1.3, 1.5, 1.4, 1.7, 1.4, 1.5, 1.4, 1.5, 1.5, 1.6, 1.4,\n",
       "       1.1, 1.2, 1.5, 1.3, 1.4, 1.7, 1.5, 1.7, 1.5, 1. , 1.7, 1.9, 1.6,\n",
       "       1.6, 1.5, 1.4, 1.6, 1.6, 1.5, 1.5, 1.4, 1.5, 1.2, 1.3, 1.5, 1.3,\n",
       "       1.5, 1.3, 1.3, 1.3, 1.6, 1.9, 1.4, 1.6, 1.4, 1.5, 1.4, 4.7, 4.5,\n",
       "       4.9, 4. , 4.6, 4.5, 4.7, 3.3, 4.6, 3.9, 3.5, 4.2, 4. , 4.7, 3.6,\n",
       "       4.4, 4.5, 4.1, 4.5, 3.9, 4.8, 4. , 4.9, 4.7, 4.3, 4.4, 4.8, 5. ,\n",
       "       4.5, 3.5, 3.8, 3.7, 3.9, 5.1, 4.5, 4.5, 4.7, 4.4, 4.1, 4. , 4.4,\n",
       "       4.6, 4. , 3.3, 4.2, 4.2, 4.2, 4.3, 3. , 4.1, 6. , 5.1, 5.9, 5.6,\n",
       "       5.8, 6.6, 4.5, 6.3, 5.8, 6.1, 5.1, 5.3, 5.5, 5. , 5.1, 5.3, 5.5,\n",
       "       6.7, 6.9, 5. , 5.7, 4.9, 6.7, 4.9, 5.7, 6. , 4.8, 4.9, 5.6, 5.8,\n",
       "       6.1, 6.4, 5.6, 5.1, 5.6, 6.1, 5.6, 5.5, 4.8, 5.4, 5.6, 5.1, 5.1,\n",
       "       5.9, 5.7, 5.2, 5. , 5.2, 5.4, 5.1])"
      ]
     },
     "execution_count": 16,
     "metadata": {},
     "output_type": "execute_result"
    }
   ],
   "source": [
    "X[:,0]"
   ]
  },
  {
   "cell_type": "code",
   "execution_count": 17,
   "id": "a57be70e",
   "metadata": {
    "execution": {
     "iopub.execute_input": "2023-04-03T20:25:52.029756Z",
     "iopub.status.busy": "2023-04-03T20:25:52.029381Z",
     "iopub.status.idle": "2023-04-03T20:25:52.037415Z",
     "shell.execute_reply": "2023-04-03T20:25:52.036075Z"
    },
    "papermill": {
     "duration": 0.023103,
     "end_time": "2023-04-03T20:25:52.039901",
     "exception": false,
     "start_time": "2023-04-03T20:25:52.016798",
     "status": "completed"
    },
    "tags": []
   },
   "outputs": [],
   "source": [
    "manual_pred = np.array([])\n",
    "\n",
    "for i in X[:,0]:\n",
    "    pred_i = manual_model(i)\n",
    "    manual_pred = np.append(manual_pred, pred_i)"
   ]
  },
  {
   "cell_type": "code",
   "execution_count": 18,
   "id": "09184c52",
   "metadata": {
    "execution": {
     "iopub.execute_input": "2023-04-03T20:25:52.064311Z",
     "iopub.status.busy": "2023-04-03T20:25:52.063908Z",
     "iopub.status.idle": "2023-04-03T20:25:52.071949Z",
     "shell.execute_reply": "2023-04-03T20:25:52.070792Z"
    },
    "papermill": {
     "duration": 0.023317,
     "end_time": "2023-04-03T20:25:52.074748",
     "exception": false,
     "start_time": "2023-04-03T20:25:52.051431",
     "status": "completed"
    },
    "tags": []
   },
   "outputs": [
    {
     "data": {
      "text/plain": [
       "array([0., 0., 0., 0., 0., 0., 0., 0., 0., 0., 0., 0., 0., 0., 0., 0., 0.,\n",
       "       0., 0., 0., 0., 0., 0., 0., 0., 0., 0., 0., 0., 0., 0., 0., 0., 0.,\n",
       "       0., 0., 0., 0., 0., 0., 0., 0., 0., 0., 0., 0., 0., 0., 0., 0., 1.,\n",
       "       1., 1., 1., 1., 1., 1., 1., 1., 1., 1., 1., 1., 1., 1., 1., 1., 1.,\n",
       "       1., 1., 1., 1., 1., 1., 1., 1., 1., 2., 1., 1., 1., 1., 1., 2., 1.,\n",
       "       1., 1., 1., 1., 1., 1., 1., 1., 1., 1., 1., 1., 1., 1., 1., 2., 2.,\n",
       "       2., 2., 2., 2., 1., 2., 2., 2., 2., 2., 2., 2., 2., 2., 2., 2., 2.,\n",
       "       2., 2., 1., 2., 1., 2., 2., 1., 1., 2., 2., 2., 2., 2., 2., 2., 2.,\n",
       "       2., 2., 1., 2., 2., 2., 2., 2., 2., 2., 2., 2., 2., 2.])"
      ]
     },
     "execution_count": 18,
     "metadata": {},
     "output_type": "execute_result"
    }
   ],
   "source": [
    "manual_pred"
   ]
  },
  {
   "cell_type": "code",
   "execution_count": 19,
   "id": "9695f670",
   "metadata": {
    "execution": {
     "iopub.execute_input": "2023-04-03T20:25:52.098895Z",
     "iopub.status.busy": "2023-04-03T20:25:52.098484Z",
     "iopub.status.idle": "2023-04-03T20:25:52.107503Z",
     "shell.execute_reply": "2023-04-03T20:25:52.105858Z"
    },
    "papermill": {
     "duration": 0.02438,
     "end_time": "2023-04-03T20:25:52.110456",
     "exception": false,
     "start_time": "2023-04-03T20:25:52.086076",
     "status": "completed"
    },
    "tags": []
   },
   "outputs": [
    {
     "data": {
      "text/plain": [
       "array([ True,  True,  True,  True,  True,  True,  True,  True,  True,\n",
       "        True,  True,  True,  True,  True,  True,  True,  True,  True,\n",
       "        True,  True,  True,  True,  True,  True,  True,  True,  True,\n",
       "        True,  True,  True,  True,  True,  True,  True,  True,  True,\n",
       "        True,  True,  True,  True,  True,  True,  True,  True,  True,\n",
       "        True,  True,  True,  True,  True,  True,  True,  True,  True,\n",
       "        True,  True,  True,  True,  True,  True,  True,  True,  True,\n",
       "        True,  True,  True,  True,  True,  True,  True,  True,  True,\n",
       "        True,  True,  True,  True,  True, False,  True,  True,  True,\n",
       "        True,  True, False,  True,  True,  True,  True,  True,  True,\n",
       "        True,  True,  True,  True,  True,  True,  True,  True,  True,\n",
       "        True,  True,  True,  True,  True,  True,  True, False,  True,\n",
       "        True,  True,  True,  True,  True,  True,  True,  True,  True,\n",
       "        True,  True,  True,  True, False,  True, False,  True,  True,\n",
       "       False, False,  True,  True,  True,  True,  True,  True,  True,\n",
       "        True,  True,  True, False,  True,  True,  True,  True,  True,\n",
       "        True,  True,  True,  True,  True,  True])"
      ]
     },
     "execution_count": 19,
     "metadata": {},
     "output_type": "execute_result"
    }
   ],
   "source": [
    "manual_pred == Y"
   ]
  },
  {
   "cell_type": "code",
   "execution_count": 20,
   "id": "82414b1d",
   "metadata": {
    "execution": {
     "iopub.execute_input": "2023-04-03T20:25:52.136027Z",
     "iopub.status.busy": "2023-04-03T20:25:52.135623Z",
     "iopub.status.idle": "2023-04-03T20:25:52.143174Z",
     "shell.execute_reply": "2023-04-03T20:25:52.142173Z"
    },
    "papermill": {
     "duration": 0.02228,
     "end_time": "2023-04-03T20:25:52.145093",
     "exception": false,
     "start_time": "2023-04-03T20:25:52.122813",
     "status": "completed"
    },
    "tags": []
   },
   "outputs": [
    {
     "data": {
      "text/plain": [
       "0.9466666666666667"
      ]
     },
     "execution_count": 20,
     "metadata": {},
     "output_type": "execute_result"
    }
   ],
   "source": [
    "np.mean(manual_pred == Y)"
   ]
  },
  {
   "cell_type": "code",
   "execution_count": 21,
   "id": "f2ca6bd0",
   "metadata": {
    "execution": {
     "iopub.execute_input": "2023-04-03T20:25:52.169714Z",
     "iopub.status.busy": "2023-04-03T20:25:52.169304Z",
     "iopub.status.idle": "2023-04-03T20:25:52.174818Z",
     "shell.execute_reply": "2023-04-03T20:25:52.174048Z"
    },
    "papermill": {
     "duration": 0.02053,
     "end_time": "2023-04-03T20:25:52.177118",
     "exception": false,
     "start_time": "2023-04-03T20:25:52.156588",
     "status": "completed"
    },
    "tags": []
   },
   "outputs": [
    {
     "name": "stdout",
     "output_type": "stream",
     "text": [
      "Exactitud del modelo manual: 94.67%\n"
     ]
    }
   ],
   "source": [
    "manual_score = np.mean(manual_pred == Y)\n",
    "print(f'Exactitud del modelo manual: {manual_score*100:.2f}%')"
   ]
  },
  {
   "cell_type": "markdown",
   "id": "d52a5e9f",
   "metadata": {
    "papermill": {
     "duration": 0.011453,
     "end_time": "2023-04-03T20:25:52.201457",
     "exception": false,
     "start_time": "2023-04-03T20:25:52.190004",
     "status": "completed"
    },
    "tags": []
   },
   "source": [
    "# 7. Generación del set de evaluación "
   ]
  },
  {
   "cell_type": "code",
   "execution_count": 22,
   "id": "14cb7708",
   "metadata": {
    "execution": {
     "iopub.execute_input": "2023-04-03T20:25:52.227840Z",
     "iopub.status.busy": "2023-04-03T20:25:52.227502Z",
     "iopub.status.idle": "2023-04-03T20:25:52.445571Z",
     "shell.execute_reply": "2023-04-03T20:25:52.444497Z"
    },
    "papermill": {
     "duration": 0.234289,
     "end_time": "2023-04-03T20:25:52.447929",
     "exception": false,
     "start_time": "2023-04-03T20:25:52.213640",
     "status": "completed"
    },
    "tags": []
   },
   "outputs": [],
   "source": [
    "from sklearn.model_selection import train_test_split"
   ]
  },
  {
   "cell_type": "code",
   "execution_count": 23,
   "id": "972a8622",
   "metadata": {
    "execution": {
     "iopub.execute_input": "2023-04-03T20:25:52.472761Z",
     "iopub.status.busy": "2023-04-03T20:25:52.471926Z",
     "iopub.status.idle": "2023-04-03T20:25:52.478835Z",
     "shell.execute_reply": "2023-04-03T20:25:52.477543Z"
    },
    "papermill": {
     "duration": 0.022183,
     "end_time": "2023-04-03T20:25:52.481516",
     "exception": false,
     "start_time": "2023-04-03T20:25:52.459333",
     "status": "completed"
    },
    "tags": []
   },
   "outputs": [],
   "source": [
    "X_train, X_test, Y_train, Y_test = train_test_split(X, Y, test_size=0.3)"
   ]
  },
  {
   "cell_type": "code",
   "execution_count": 24,
   "id": "c3efce40",
   "metadata": {
    "execution": {
     "iopub.execute_input": "2023-04-03T20:25:52.507673Z",
     "iopub.status.busy": "2023-04-03T20:25:52.506482Z",
     "iopub.status.idle": "2023-04-03T20:25:52.513198Z",
     "shell.execute_reply": "2023-04-03T20:25:52.511732Z"
    },
    "papermill": {
     "duration": 0.022376,
     "end_time": "2023-04-03T20:25:52.515621",
     "exception": false,
     "start_time": "2023-04-03T20:25:52.493245",
     "status": "completed"
    },
    "tags": []
   },
   "outputs": [
    {
     "name": "stdout",
     "output_type": "stream",
     "text": [
      "Nro. de muestras de entrenamiento: 105 - Nro. de muestras de evaluación: 45\n"
     ]
    }
   ],
   "source": [
    "print(f'Nro. de muestras de entrenamiento: {X_train.shape[0]} - Nro. de muestras de evaluación: {X_test.shape[0]}')"
   ]
  },
  {
   "cell_type": "markdown",
   "id": "bfb10fc6",
   "metadata": {
    "papermill": {
     "duration": 0.011404,
     "end_time": "2023-04-03T20:25:52.538906",
     "exception": false,
     "start_time": "2023-04-03T20:25:52.527502",
     "status": "completed"
    },
    "tags": []
   },
   "source": [
    "# 8. Modelo con Regresión Lógistica"
   ]
  },
  {
   "cell_type": "code",
   "execution_count": 25,
   "id": "bb01da2e",
   "metadata": {
    "execution": {
     "iopub.execute_input": "2023-04-03T20:25:52.564039Z",
     "iopub.status.busy": "2023-04-03T20:25:52.563689Z",
     "iopub.status.idle": "2023-04-03T20:25:52.649086Z",
     "shell.execute_reply": "2023-04-03T20:25:52.648285Z"
    },
    "papermill": {
     "duration": 0.100821,
     "end_time": "2023-04-03T20:25:52.651456",
     "exception": false,
     "start_time": "2023-04-03T20:25:52.550635",
     "status": "completed"
    },
    "tags": []
   },
   "outputs": [],
   "source": [
    "from sklearn.linear_model import LogisticRegression"
   ]
  },
  {
   "cell_type": "code",
   "execution_count": 26,
   "id": "630c08c0",
   "metadata": {
    "execution": {
     "iopub.execute_input": "2023-04-03T20:25:52.675869Z",
     "iopub.status.busy": "2023-04-03T20:25:52.675212Z",
     "iopub.status.idle": "2023-04-03T20:25:52.680259Z",
     "shell.execute_reply": "2023-04-03T20:25:52.678941Z"
    },
    "papermill": {
     "duration": 0.019159,
     "end_time": "2023-04-03T20:25:52.682110",
     "exception": false,
     "start_time": "2023-04-03T20:25:52.662951",
     "status": "completed"
    },
    "tags": []
   },
   "outputs": [],
   "source": [
    "model = LogisticRegression()"
   ]
  },
  {
   "cell_type": "code",
   "execution_count": 27,
   "id": "ce2a73a6",
   "metadata": {
    "execution": {
     "iopub.execute_input": "2023-04-03T20:25:52.707993Z",
     "iopub.status.busy": "2023-04-03T20:25:52.706896Z",
     "iopub.status.idle": "2023-04-03T20:25:52.736028Z",
     "shell.execute_reply": "2023-04-03T20:25:52.735136Z"
    },
    "papermill": {
     "duration": 0.044513,
     "end_time": "2023-04-03T20:25:52.737913",
     "exception": false,
     "start_time": "2023-04-03T20:25:52.693400",
     "status": "completed"
    },
    "tags": []
   },
   "outputs": [
    {
     "data": {
      "text/plain": [
       "LogisticRegression()"
      ]
     },
     "execution_count": 27,
     "metadata": {},
     "output_type": "execute_result"
    }
   ],
   "source": [
    "model.fit(X_train, Y_train)"
   ]
  },
  {
   "cell_type": "code",
   "execution_count": 28,
   "id": "8e7b206c",
   "metadata": {
    "execution": {
     "iopub.execute_input": "2023-04-03T20:25:52.762567Z",
     "iopub.status.busy": "2023-04-03T20:25:52.761962Z",
     "iopub.status.idle": "2023-04-03T20:25:52.766346Z",
     "shell.execute_reply": "2023-04-03T20:25:52.765668Z"
    },
    "papermill": {
     "duration": 0.018834,
     "end_time": "2023-04-03T20:25:52.768176",
     "exception": false,
     "start_time": "2023-04-03T20:25:52.749342",
     "status": "completed"
    },
    "tags": []
   },
   "outputs": [],
   "source": [
    "Y_pred = model.predict(X_test)"
   ]
  },
  {
   "cell_type": "code",
   "execution_count": 29,
   "id": "ca2d5a89",
   "metadata": {
    "execution": {
     "iopub.execute_input": "2023-04-03T20:25:52.792160Z",
     "iopub.status.busy": "2023-04-03T20:25:52.791823Z",
     "iopub.status.idle": "2023-04-03T20:25:52.798810Z",
     "shell.execute_reply": "2023-04-03T20:25:52.796845Z"
    },
    "papermill": {
     "duration": 0.022185,
     "end_time": "2023-04-03T20:25:52.801514",
     "exception": false,
     "start_time": "2023-04-03T20:25:52.779329",
     "status": "completed"
    },
    "tags": []
   },
   "outputs": [
    {
     "data": {
      "text/plain": [
       "array([1, 1, 0, 2, 1, 0, 2, 0, 2, 1, 1, 1, 2, 2, 1, 1, 1, 1, 1, 0, 2, 0,\n",
       "       1, 2, 2, 1, 0, 1, 1, 2, 1, 1, 1, 0, 0, 0, 0, 1, 2, 2, 1, 1, 0, 2,\n",
       "       1])"
      ]
     },
     "execution_count": 29,
     "metadata": {},
     "output_type": "execute_result"
    }
   ],
   "source": [
    "Y_pred"
   ]
  },
  {
   "cell_type": "code",
   "execution_count": 30,
   "id": "ae230fba",
   "metadata": {
    "execution": {
     "iopub.execute_input": "2023-04-03T20:25:52.827914Z",
     "iopub.status.busy": "2023-04-03T20:25:52.827573Z",
     "iopub.status.idle": "2023-04-03T20:25:53.082268Z",
     "shell.execute_reply": "2023-04-03T20:25:53.081298Z"
    },
    "papermill": {
     "duration": 0.270438,
     "end_time": "2023-04-03T20:25:53.084375",
     "exception": false,
     "start_time": "2023-04-03T20:25:52.813937",
     "status": "completed"
    },
    "tags": []
   },
   "outputs": [
    {
     "data": {
      "image/png": "[encoded data removed]",
      "text/plain": [
       "<Figure size 640x480 with 1 Axes>"
      ]
     },
     "metadata": {},
     "output_type": "display_data"
    }
   ],
   "source": [
    "import warnings\n",
    "\n",
    "from matplotlib.colors import ListedColormap\n",
    "def versiontuple(v):\n",
    "    return tuple(map(int, (v.split(\".\"))))\n",
    "\n",
    "\n",
    "def plot_decision_regions(X, y, classifier, test_idx=None, resolution=0.02):\n",
    "\n",
    "    # setup marker generator and color map\n",
    "    markers = ('s', 'x', 'o', '^', 'v')\n",
    "    colors = ('red', 'blue', 'lightgreen', 'gray', 'cyan')\n",
    "    cmap = ListedColormap(colors[:len(np.unique(y))])\n",
    "\n",
    "    # plot the decision surface\n",
    "    x1_min, x1_max = X[:, 0].min() - 1, X[:, 0].max() + 1\n",
    "    x2_min, x2_max = X[:, 1].min() - 1, X[:, 1].max() + 1\n",
    "    xx1, xx2 = np.meshgrid(np.arange(x1_min, x1_max, resolution),\n",
    "                           np.arange(x2_min, x2_max, resolution))\n",
    "    Z = classifier.predict(np.array([xx1.ravel(), xx2.ravel()]).T)\n",
    "    Z = Z.reshape(xx1.shape)\n",
    "    plt.contourf(xx1, xx2, Z, alpha=0.4, cmap=cmap)\n",
    "    plt.xlim(xx1.min(), xx1.max())\n",
    "    plt.ylim(xx2.min(), xx2.max())\n",
    "\n",
    "    for idx, cl in enumerate(np.unique(y)):\n",
    "        plt.scatter(x=X[y == cl, 0], y=X[y == cl, 1],\n",
    "                    alpha=0.8, c=cmap(idx),\n",
    "                    marker=markers[idx], label=cl)\n",
    "plot_decision_regions(X_test, Y_test, model)"
   ]
  },
  {
   "cell_type": "markdown",
   "id": "e1a5b9f4",
   "metadata": {
    "papermill": {
     "duration": 0.011569,
     "end_time": "2023-04-03T20:25:53.108066",
     "exception": false,
     "start_time": "2023-04-03T20:25:53.096497",
     "status": "completed"
    },
    "tags": []
   },
   "source": [
    "## 8.1. Evaluación del modelo mediante el set de evaluación"
   ]
  },
  {
   "cell_type": "code",
   "execution_count": 31,
   "id": "ae3230b8",
   "metadata": {
    "execution": {
     "iopub.execute_input": "2023-04-03T20:25:53.134288Z",
     "iopub.status.busy": "2023-04-03T20:25:53.133868Z",
     "iopub.status.idle": "2023-04-03T20:25:53.140278Z",
     "shell.execute_reply": "2023-04-03T20:25:53.139295Z"
    },
    "papermill": {
     "duration": 0.022182,
     "end_time": "2023-04-03T20:25:53.142197",
     "exception": false,
     "start_time": "2023-04-03T20:25:53.120015",
     "status": "completed"
    },
    "tags": []
   },
   "outputs": [
    {
     "data": {
      "text/plain": [
       "1.0"
      ]
     },
     "execution_count": 31,
     "metadata": {},
     "output_type": "execute_result"
    }
   ],
   "source": [
    "np.mean(Y_pred == Y_test)"
   ]
  },
  {
   "cell_type": "code",
   "execution_count": 32,
   "id": "f1020d2c",
   "metadata": {
    "execution": {
     "iopub.execute_input": "2023-04-03T20:25:53.169146Z",
     "iopub.status.busy": "2023-04-03T20:25:53.168524Z",
     "iopub.status.idle": "2023-04-03T20:25:53.176412Z",
     "shell.execute_reply": "2023-04-03T20:25:53.175314Z"
    },
    "papermill": {
     "duration": 0.024075,
     "end_time": "2023-04-03T20:25:53.178501",
     "exception": false,
     "start_time": "2023-04-03T20:25:53.154426",
     "status": "completed"
    },
    "tags": []
   },
   "outputs": [
    {
     "data": {
      "text/plain": [
       "1.0"
      ]
     },
     "execution_count": 32,
     "metadata": {},
     "output_type": "execute_result"
    }
   ],
   "source": [
    "model.score(X_test, Y_test)"
   ]
  },
  {
   "cell_type": "markdown",
   "id": "d016c46c",
   "metadata": {
    "papermill": {
     "duration": 0.012547,
     "end_time": "2023-04-03T20:25:53.203895",
     "exception": false,
     "start_time": "2023-04-03T20:25:53.191348",
     "status": "completed"
    },
    "tags": []
   },
   "source": [
    "## 8.2. Evaluación del modelo mediante validación cruzada"
   ]
  },
  {
   "cell_type": "markdown",
   "id": "0380a16f",
   "metadata": {
    "papermill": {
     "duration": 0.012378,
     "end_time": "2023-04-03T20:25:53.229086",
     "exception": false,
     "start_time": "2023-04-03T20:25:53.216708",
     "status": "completed"
    },
    "tags": []
   },
   "source": [
    "# 9. Modelo con KNN"
   ]
  },
  {
   "cell_type": "code",
   "execution_count": null,
   "id": "0c4b1828",
   "metadata": {
    "papermill": {
     "duration": 0.013756,
     "end_time": "2023-04-03T20:25:53.255515",
     "exception": false,
     "start_time": "2023-04-03T20:25:53.241759",
     "status": "completed"
    },
    "tags": []
   },
   "outputs": [],
   "source": []
  }
 ],
 "metadata": {
  "kernelspec": {
   "display_name": "Python 3",
   "language": "python",
   "name": "python3"
  },
  "language_info": {
   "codemirror_mode": {
    "name": "ipython",
    "version": 3
   },
   "file_extension": ".py",
   "mimetype": "text/x-python",
   "name": "python",
   "nbconvert_exporter": "python",
   "pygments_lexer": "ipython3",
   "version": "3.7.12"
  },
  "papermill": {
   "default_parameters": {},
   "duration": 13.259923,
   "end_time": "2023-04-03T20:25:53.990064",
   "environment_variables": {},
   "exception": null,
   "input_path": "__notebook__.ipynb",
   "output_path": "__notebook__.ipynb",
   "parameters": {},
   "start_time": "2023-04-03T20:25:40.730141",
   "version": "2.4.0"
  }
 },
 "nbformat": 4,
 "nbformat_minor": 5
}
