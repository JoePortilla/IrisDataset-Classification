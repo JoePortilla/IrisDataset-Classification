{
 "cells": [
  {
   "cell_type": "markdown",
   "id": "31c4afcd",
   "metadata": {
    "_cell_guid": "b1076dfc-b9ad-4769-8c92-a6c4dae69d19",
    "_uuid": "8f2839f25d086af736a60e9eeb907d3b93b6e0e5",
    "papermill": {
     "duration": 0.016266,
     "end_time": "2023-04-03T22:41:12.955386",
     "exception": false,
     "start_time": "2023-04-03T22:41:12.939120",
     "status": "completed"
    },
    "tags": []
   },
   "source": [
    "# 0. Introducción\n",
    "El dataset `Iris` es un conjunto de datos de clasificación multiclase clásico y muy sencillo. Introducido por el estadístico y biólogo británico Ronald Fisher en su artículo de 1936 \"The use of multiple measurements in taxonomic problems\". El conjunto de datos de Iris contiene cuatro características (longitud y anchura de sépalos y pétalos) de 50 muestras de tres especies de flores Iris (Iris setosa, Iris virginica e Iris versicolor).\n",
    "\n",
    "El objetivo es construir un modelo que utilice las características para clasificar las flores con un máximo de precisión. Para alcanzar este objetivo, vamos a realizar un análisis exploratorio de datos para comprender los datos y elegir las mejores características.\n",
    "\n",
    "Este notebook se centrará principalmente en...\n",
    "\n",
    "https://www.kaggle.com/code/joeportilla/analisis-exploratorio-de-datos-dataset-iris\n",
    "\n",
    "![](https://s3.amazonaws.com/assets.datacamp.com/blog_assets/Machine+Learning+R/iris-machinelearning.png)\n",
    "Fuente: https://www.datacamp.com/tutorial/machine-learning-in-r\n",
    "\n",
    "### Referencias:\n",
    "- [Wikipedia](https://es.wikipedia.org/wiki/Conjunto_de_datos_flor_iris)\n",
    "- [UCI Machine Learning Repository](https://archive.ics.uci.edu/ml/datasets/Iris/)\n",
    "\n",
    "### Instructor:\n",
    "Joseph Santiago Portilla - Ingeniero Electrónico.\n",
    "- GitHub: https://github.com/JoePortilla\n",
    "- Twitter: https://twitter.com/JoePortilla\n",
    "- LinkedIn: https://www.linkedin.com/in/PortillaJoe\n",
    "- Kaggle: https://www.kaggle.com/joeportilla"
   ]
  },
  {
   "cell_type": "markdown",
   "id": "16c338ba",
   "metadata": {
    "papermill": {
     "duration": 0.014692,
     "end_time": "2023-04-03T22:41:12.985144",
     "exception": false,
     "start_time": "2023-04-03T22:41:12.970452",
     "status": "completed"
    },
    "tags": []
   },
   "source": [
    "# 1. Ajustes Iniciales"
   ]
  },
  {
   "cell_type": "markdown",
   "id": "9efe1d56",
   "metadata": {
    "papermill": {
     "duration": 0.015327,
     "end_time": "2023-04-03T22:41:13.014677",
     "exception": false,
     "start_time": "2023-04-03T22:41:12.999350",
     "status": "completed"
    },
    "tags": []
   },
   "source": [
    "## 1.1 Importación de Bibliotecas"
   ]
  },
  {
   "cell_type": "code",
   "execution_count": 1,
   "id": "0c351e29",
   "metadata": {
    "execution": {
     "iopub.execute_input": "2023-04-03T22:41:13.048136Z",
     "iopub.status.busy": "2023-04-03T22:41:13.047179Z",
     "iopub.status.idle": "2023-04-03T22:41:14.349066Z",
     "shell.execute_reply": "2023-04-03T22:41:14.347218Z"
    },
    "papermill": {
     "duration": 1.322489,
     "end_time": "2023-04-03T22:41:14.353331",
     "exception": false,
     "start_time": "2023-04-03T22:41:13.030842",
     "status": "completed"
    },
    "tags": []
   },
   "outputs": [],
   "source": [
    "import numpy as np\n",
    "import pandas as pd\n",
    "import seaborn as sns\n",
    "import matplotlib.pyplot as plt"
   ]
  },
  {
   "cell_type": "markdown",
   "id": "eb3d8b46",
   "metadata": {
    "papermill": {
     "duration": 0.015746,
     "end_time": "2023-04-03T22:41:14.384584",
     "exception": false,
     "start_time": "2023-04-03T22:41:14.368838",
     "status": "completed"
    },
    "tags": []
   },
   "source": [
    "## 1.2. Definición de estilo de gráficas"
   ]
  },
  {
   "cell_type": "code",
   "execution_count": 2,
   "id": "2816586a",
   "metadata": {
    "execution": {
     "iopub.execute_input": "2023-04-03T22:41:14.418200Z",
     "iopub.status.busy": "2023-04-03T22:41:14.417402Z",
     "iopub.status.idle": "2023-04-03T22:41:14.422133Z",
     "shell.execute_reply": "2023-04-03T22:41:14.421251Z"
    },
    "papermill": {
     "duration": 0.02629,
     "end_time": "2023-04-03T22:41:14.425532",
     "exception": false,
     "start_time": "2023-04-03T22:41:14.399242",
     "status": "completed"
    },
    "tags": []
   },
   "outputs": [],
   "source": [
    "# https://matplotlib.org/stable/gallery/style_sheets/style_sheets_reference.html\n",
    "plt.style.use(\"seaborn-whitegrid\")"
   ]
  },
  {
   "cell_type": "markdown",
   "id": "b95889c8",
   "metadata": {
    "papermill": {
     "duration": 0.015457,
     "end_time": "2023-04-03T22:41:14.456236",
     "exception": false,
     "start_time": "2023-04-03T22:41:14.440779",
     "status": "completed"
    },
    "tags": []
   },
   "source": [
    "# 2. Carga de Dataset y Preprocesamiento"
   ]
  },
  {
   "cell_type": "markdown",
   "id": "c301dbf5",
   "metadata": {
    "papermill": {
     "duration": 0.016074,
     "end_time": "2023-04-03T22:41:14.488615",
     "exception": false,
     "start_time": "2023-04-03T22:41:14.472541",
     "status": "completed"
    },
    "tags": []
   },
   "source": [
    "## 2.1. Lectura de CSV"
   ]
  },
  {
   "cell_type": "code",
   "execution_count": 3,
   "id": "9ec2623a",
   "metadata": {
    "execution": {
     "iopub.execute_input": "2023-04-03T22:41:14.521745Z",
     "iopub.status.busy": "2023-04-03T22:41:14.520960Z",
     "iopub.status.idle": "2023-04-03T22:41:14.540570Z",
     "shell.execute_reply": "2023-04-03T22:41:14.539294Z"
    },
    "papermill": {
     "duration": 0.040419,
     "end_time": "2023-04-03T22:41:14.543895",
     "exception": false,
     "start_time": "2023-04-03T22:41:14.503476",
     "status": "completed"
    },
    "tags": []
   },
   "outputs": [],
   "source": [
    "df = pd.read_csv('/kaggle/input/iris/Iris.csv')"
   ]
  },
  {
   "cell_type": "code",
   "execution_count": 4,
   "id": "bf68cf17",
   "metadata": {
    "execution": {
     "iopub.execute_input": "2023-04-03T22:41:14.575995Z",
     "iopub.status.busy": "2023-04-03T22:41:14.575237Z",
     "iopub.status.idle": "2023-04-03T22:41:14.614777Z",
     "shell.execute_reply": "2023-04-03T22:41:14.613018Z"
    },
    "papermill": {
     "duration": 0.059175,
     "end_time": "2023-04-03T22:41:14.617719",
     "exception": false,
     "start_time": "2023-04-03T22:41:14.558544",
     "status": "completed"
    },
    "tags": []
   },
   "outputs": [
    {
     "data": {
      "text/html": [
       "<div>\n",
       "<style scoped>\n",
       "    .dataframe tbody tr th:only-of-type {\n",
       "        vertical-align: middle;\n",
       "    }\n",
       "\n",
       "    .dataframe tbody tr th {\n",
       "        vertical-align: top;\n",
       "    }\n",
       "\n",
       "    .dataframe thead th {\n",
       "        text-align: right;\n",
       "    }\n",
       "</style>\n",
       "<table border=\"1\" class=\"dataframe\">\n",
       "  <thead>\n",
       "    <tr style=\"text-align: right;\">\n",
       "      <th></th>\n",
       "      <th>Id</th>\n",
       "      <th>SepalLengthCm</th>\n",
       "      <th>SepalWidthCm</th>\n",
       "      <th>PetalLengthCm</th>\n",
       "      <th>PetalWidthCm</th>\n",
       "      <th>Species</th>\n",
       "    </tr>\n",
       "  </thead>\n",
       "  <tbody>\n",
       "    <tr>\n",
       "      <th>0</th>\n",
       "      <td>1</td>\n",
       "      <td>5.1</td>\n",
       "      <td>3.5</td>\n",
       "      <td>1.4</td>\n",
       "      <td>0.2</td>\n",
       "      <td>Iris-setosa</td>\n",
       "    </tr>\n",
       "    <tr>\n",
       "      <th>1</th>\n",
       "      <td>2</td>\n",
       "      <td>4.9</td>\n",
       "      <td>3.0</td>\n",
       "      <td>1.4</td>\n",
       "      <td>0.2</td>\n",
       "      <td>Iris-setosa</td>\n",
       "    </tr>\n",
       "    <tr>\n",
       "      <th>2</th>\n",
       "      <td>3</td>\n",
       "      <td>4.7</td>\n",
       "      <td>3.2</td>\n",
       "      <td>1.3</td>\n",
       "      <td>0.2</td>\n",
       "      <td>Iris-setosa</td>\n",
       "    </tr>\n",
       "    <tr>\n",
       "      <th>3</th>\n",
       "      <td>4</td>\n",
       "      <td>4.6</td>\n",
       "      <td>3.1</td>\n",
       "      <td>1.5</td>\n",
       "      <td>0.2</td>\n",
       "      <td>Iris-setosa</td>\n",
       "    </tr>\n",
       "    <tr>\n",
       "      <th>4</th>\n",
       "      <td>5</td>\n",
       "      <td>5.0</td>\n",
       "      <td>3.6</td>\n",
       "      <td>1.4</td>\n",
       "      <td>0.2</td>\n",
       "      <td>Iris-setosa</td>\n",
       "    </tr>\n",
       "    <tr>\n",
       "      <th>...</th>\n",
       "      <td>...</td>\n",
       "      <td>...</td>\n",
       "      <td>...</td>\n",
       "      <td>...</td>\n",
       "      <td>...</td>\n",
       "      <td>...</td>\n",
       "    </tr>\n",
       "    <tr>\n",
       "      <th>145</th>\n",
       "      <td>146</td>\n",
       "      <td>6.7</td>\n",
       "      <td>3.0</td>\n",
       "      <td>5.2</td>\n",
       "      <td>2.3</td>\n",
       "      <td>Iris-virginica</td>\n",
       "    </tr>\n",
       "    <tr>\n",
       "      <th>146</th>\n",
       "      <td>147</td>\n",
       "      <td>6.3</td>\n",
       "      <td>2.5</td>\n",
       "      <td>5.0</td>\n",
       "      <td>1.9</td>\n",
       "      <td>Iris-virginica</td>\n",
       "    </tr>\n",
       "    <tr>\n",
       "      <th>147</th>\n",
       "      <td>148</td>\n",
       "      <td>6.5</td>\n",
       "      <td>3.0</td>\n",
       "      <td>5.2</td>\n",
       "      <td>2.0</td>\n",
       "      <td>Iris-virginica</td>\n",
       "    </tr>\n",
       "    <tr>\n",
       "      <th>148</th>\n",
       "      <td>149</td>\n",
       "      <td>6.2</td>\n",
       "      <td>3.4</td>\n",
       "      <td>5.4</td>\n",
       "      <td>2.3</td>\n",
       "      <td>Iris-virginica</td>\n",
       "    </tr>\n",
       "    <tr>\n",
       "      <th>149</th>\n",
       "      <td>150</td>\n",
       "      <td>5.9</td>\n",
       "      <td>3.0</td>\n",
       "      <td>5.1</td>\n",
       "      <td>1.8</td>\n",
       "      <td>Iris-virginica</td>\n",
       "    </tr>\n",
       "  </tbody>\n",
       "</table>\n",
       "<p>150 rows × 6 columns</p>\n",
       "</div>"
      ],
      "text/plain": [
       "      Id  SepalLengthCm  SepalWidthCm  PetalLengthCm  PetalWidthCm  \\\n",
       "0      1            5.1           3.5            1.4           0.2   \n",
       "1      2            4.9           3.0            1.4           0.2   \n",
       "2      3            4.7           3.2            1.3           0.2   \n",
       "3      4            4.6           3.1            1.5           0.2   \n",
       "4      5            5.0           3.6            1.4           0.2   \n",
       "..   ...            ...           ...            ...           ...   \n",
       "145  146            6.7           3.0            5.2           2.3   \n",
       "146  147            6.3           2.5            5.0           1.9   \n",
       "147  148            6.5           3.0            5.2           2.0   \n",
       "148  149            6.2           3.4            5.4           2.3   \n",
       "149  150            5.9           3.0            5.1           1.8   \n",
       "\n",
       "            Species  \n",
       "0       Iris-setosa  \n",
       "1       Iris-setosa  \n",
       "2       Iris-setosa  \n",
       "3       Iris-setosa  \n",
       "4       Iris-setosa  \n",
       "..              ...  \n",
       "145  Iris-virginica  \n",
       "146  Iris-virginica  \n",
       "147  Iris-virginica  \n",
       "148  Iris-virginica  \n",
       "149  Iris-virginica  \n",
       "\n",
       "[150 rows x 6 columns]"
      ]
     },
     "execution_count": 4,
     "metadata": {},
     "output_type": "execute_result"
    }
   ],
   "source": [
    "df"
   ]
  },
  {
   "cell_type": "markdown",
   "id": "31dac6f5",
   "metadata": {
    "papermill": {
     "duration": 0.01399,
     "end_time": "2023-04-03T22:41:14.646496",
     "exception": false,
     "start_time": "2023-04-03T22:41:14.632506",
     "status": "completed"
    },
    "tags": []
   },
   "source": [
    "## 2.2. Preprocesamiento"
   ]
  },
  {
   "cell_type": "markdown",
   "id": "6a8f421f",
   "metadata": {
    "papermill": {
     "duration": 0.014078,
     "end_time": "2023-04-03T22:41:14.675073",
     "exception": false,
     "start_time": "2023-04-03T22:41:14.660995",
     "status": "completed"
    },
    "tags": []
   },
   "source": [
    "### Renombramiento de columnas "
   ]
  },
  {
   "cell_type": "markdown",
   "id": "6e887ff8",
   "metadata": {
    "papermill": {
     "duration": 0.014735,
     "end_time": "2023-04-03T22:41:14.704192",
     "exception": false,
     "start_time": "2023-04-03T22:41:14.689457",
     "status": "completed"
    },
    "tags": []
   },
   "source": [
    "Se renombran las columnas para facilitar su uso."
   ]
  },
  {
   "cell_type": "code",
   "execution_count": 5,
   "id": "54232364",
   "metadata": {
    "execution": {
     "iopub.execute_input": "2023-04-03T22:41:14.736729Z",
     "iopub.status.busy": "2023-04-03T22:41:14.736237Z",
     "iopub.status.idle": "2023-04-03T22:41:14.745180Z",
     "shell.execute_reply": "2023-04-03T22:41:14.743887Z"
    },
    "papermill": {
     "duration": 0.028407,
     "end_time": "2023-04-03T22:41:14.747683",
     "exception": false,
     "start_time": "2023-04-03T22:41:14.719276",
     "status": "completed"
    },
    "tags": []
   },
   "outputs": [],
   "source": [
    "df.rename({'SepalLengthCm':'sepal_l',\n",
    "           'SepalWidthCm':'sepal_w',\n",
    "           'PetalLengthCm':'petal_l',\n",
    "           'PetalWidthCm':'petal_w',\n",
    "           'Species':'species'},\n",
    "          axis=1, inplace=True)"
   ]
  },
  {
   "cell_type": "markdown",
   "id": "28afa195",
   "metadata": {
    "papermill": {
     "duration": 0.014052,
     "end_time": "2023-04-03T22:41:14.776193",
     "exception": false,
     "start_time": "2023-04-03T22:41:14.762141",
     "status": "completed"
    },
    "tags": []
   },
   "source": [
    "### Eliminación de columnas"
   ]
  },
  {
   "cell_type": "markdown",
   "id": "538652f3",
   "metadata": {
    "papermill": {
     "duration": 0.013982,
     "end_time": "2023-04-03T22:41:14.804641",
     "exception": false,
     "start_time": "2023-04-03T22:41:14.790659",
     "status": "completed"
    },
    "tags": []
   },
   "source": [
    "Se elimina la columna 'id', ya que no es necesaria dentro del analisis."
   ]
  },
  {
   "cell_type": "code",
   "execution_count": 6,
   "id": "91e4d037",
   "metadata": {
    "execution": {
     "iopub.execute_input": "2023-04-03T22:41:14.835640Z",
     "iopub.status.busy": "2023-04-03T22:41:14.834929Z",
     "iopub.status.idle": "2023-04-03T22:41:14.844908Z",
     "shell.execute_reply": "2023-04-03T22:41:14.843582Z"
    },
    "papermill": {
     "duration": 0.029006,
     "end_time": "2023-04-03T22:41:14.848081",
     "exception": false,
     "start_time": "2023-04-03T22:41:14.819075",
     "status": "completed"
    },
    "tags": []
   },
   "outputs": [],
   "source": [
    "df.drop('Id', axis=1, inplace=True)"
   ]
  },
  {
   "cell_type": "markdown",
   "id": "8e977e61",
   "metadata": {
    "papermill": {
     "duration": 0.014927,
     "end_time": "2023-04-03T22:41:14.878488",
     "exception": false,
     "start_time": "2023-04-03T22:41:14.863561",
     "status": "completed"
    },
    "tags": []
   },
   "source": [
    "### Creación de target"
   ]
  },
  {
   "cell_type": "code",
   "execution_count": 7,
   "id": "972e6e42",
   "metadata": {
    "execution": {
     "iopub.execute_input": "2023-04-03T22:41:14.911413Z",
     "iopub.status.busy": "2023-04-03T22:41:14.910902Z",
     "iopub.status.idle": "2023-04-03T22:41:14.922501Z",
     "shell.execute_reply": "2023-04-03T22:41:14.920784Z"
    },
    "papermill": {
     "duration": 0.032617,
     "end_time": "2023-04-03T22:41:14.926056",
     "exception": false,
     "start_time": "2023-04-03T22:41:14.893439",
     "status": "completed"
    },
    "tags": []
   },
   "outputs": [],
   "source": [
    "df['target'] = df['species'].map({'Iris-setosa':0, 'Iris-versicolor':1, 'Iris-virginica':2})"
   ]
  },
  {
   "cell_type": "code",
   "execution_count": 8,
   "id": "96399b2b",
   "metadata": {
    "execution": {
     "iopub.execute_input": "2023-04-03T22:41:14.959336Z",
     "iopub.status.busy": "2023-04-03T22:41:14.958802Z",
     "iopub.status.idle": "2023-04-03T22:41:14.978393Z",
     "shell.execute_reply": "2023-04-03T22:41:14.976707Z"
    },
    "papermill": {
     "duration": 0.040311,
     "end_time": "2023-04-03T22:41:14.981865",
     "exception": false,
     "start_time": "2023-04-03T22:41:14.941554",
     "status": "completed"
    },
    "tags": []
   },
   "outputs": [
    {
     "data": {
      "text/html": [
       "<div>\n",
       "<style scoped>\n",
       "    .dataframe tbody tr th:only-of-type {\n",
       "        vertical-align: middle;\n",
       "    }\n",
       "\n",
       "    .dataframe tbody tr th {\n",
       "        vertical-align: top;\n",
       "    }\n",
       "\n",
       "    .dataframe thead th {\n",
       "        text-align: right;\n",
       "    }\n",
       "</style>\n",
       "<table border=\"1\" class=\"dataframe\">\n",
       "  <thead>\n",
       "    <tr style=\"text-align: right;\">\n",
       "      <th></th>\n",
       "      <th>sepal_l</th>\n",
       "      <th>sepal_w</th>\n",
       "      <th>petal_l</th>\n",
       "      <th>petal_w</th>\n",
       "      <th>species</th>\n",
       "      <th>target</th>\n",
       "    </tr>\n",
       "  </thead>\n",
       "  <tbody>\n",
       "    <tr>\n",
       "      <th>0</th>\n",
       "      <td>5.1</td>\n",
       "      <td>3.5</td>\n",
       "      <td>1.4</td>\n",
       "      <td>0.2</td>\n",
       "      <td>Iris-setosa</td>\n",
       "      <td>0</td>\n",
       "    </tr>\n",
       "    <tr>\n",
       "      <th>1</th>\n",
       "      <td>4.9</td>\n",
       "      <td>3.0</td>\n",
       "      <td>1.4</td>\n",
       "      <td>0.2</td>\n",
       "      <td>Iris-setosa</td>\n",
       "      <td>0</td>\n",
       "    </tr>\n",
       "    <tr>\n",
       "      <th>2</th>\n",
       "      <td>4.7</td>\n",
       "      <td>3.2</td>\n",
       "      <td>1.3</td>\n",
       "      <td>0.2</td>\n",
       "      <td>Iris-setosa</td>\n",
       "      <td>0</td>\n",
       "    </tr>\n",
       "    <tr>\n",
       "      <th>3</th>\n",
       "      <td>4.6</td>\n",
       "      <td>3.1</td>\n",
       "      <td>1.5</td>\n",
       "      <td>0.2</td>\n",
       "      <td>Iris-setosa</td>\n",
       "      <td>0</td>\n",
       "    </tr>\n",
       "    <tr>\n",
       "      <th>4</th>\n",
       "      <td>5.0</td>\n",
       "      <td>3.6</td>\n",
       "      <td>1.4</td>\n",
       "      <td>0.2</td>\n",
       "      <td>Iris-setosa</td>\n",
       "      <td>0</td>\n",
       "    </tr>\n",
       "    <tr>\n",
       "      <th>5</th>\n",
       "      <td>5.4</td>\n",
       "      <td>3.9</td>\n",
       "      <td>1.7</td>\n",
       "      <td>0.4</td>\n",
       "      <td>Iris-setosa</td>\n",
       "      <td>0</td>\n",
       "    </tr>\n",
       "    <tr>\n",
       "      <th>6</th>\n",
       "      <td>4.6</td>\n",
       "      <td>3.4</td>\n",
       "      <td>1.4</td>\n",
       "      <td>0.3</td>\n",
       "      <td>Iris-setosa</td>\n",
       "      <td>0</td>\n",
       "    </tr>\n",
       "  </tbody>\n",
       "</table>\n",
       "</div>"
      ],
      "text/plain": [
       "   sepal_l  sepal_w  petal_l  petal_w      species  target\n",
       "0      5.1      3.5      1.4      0.2  Iris-setosa       0\n",
       "1      4.9      3.0      1.4      0.2  Iris-setosa       0\n",
       "2      4.7      3.2      1.3      0.2  Iris-setosa       0\n",
       "3      4.6      3.1      1.5      0.2  Iris-setosa       0\n",
       "4      5.0      3.6      1.4      0.2  Iris-setosa       0\n",
       "5      5.4      3.9      1.7      0.4  Iris-setosa       0\n",
       "6      4.6      3.4      1.4      0.3  Iris-setosa       0"
      ]
     },
     "execution_count": 8,
     "metadata": {},
     "output_type": "execute_result"
    }
   ],
   "source": [
    "df.head(7)"
   ]
  },
  {
   "cell_type": "markdown",
   "id": "96435a3b",
   "metadata": {
    "papermill": {
     "duration": 0.016575,
     "end_time": "2023-04-03T22:41:15.014552",
     "exception": false,
     "start_time": "2023-04-03T22:41:14.997977",
     "status": "completed"
    },
    "tags": []
   },
   "source": [
    "# 3. Feature Engineering"
   ]
  },
  {
   "cell_type": "markdown",
   "id": "6d3e61f3",
   "metadata": {
    "papermill": {
     "duration": 0.015102,
     "end_time": "2023-04-03T22:41:15.046116",
     "exception": false,
     "start_time": "2023-04-03T22:41:15.031014",
     "status": "completed"
    },
    "tags": []
   },
   "source": [
    "We'll use the petal length and width only for this analysis"
   ]
  },
  {
   "cell_type": "code",
   "execution_count": 9,
   "id": "d8d498a1",
   "metadata": {
    "execution": {
     "iopub.execute_input": "2023-04-03T22:41:15.080284Z",
     "iopub.status.busy": "2023-04-03T22:41:15.079581Z",
     "iopub.status.idle": "2023-04-03T22:41:15.088210Z",
     "shell.execute_reply": "2023-04-03T22:41:15.086374Z"
    },
    "papermill": {
     "duration": 0.029351,
     "end_time": "2023-04-03T22:41:15.091332",
     "exception": false,
     "start_time": "2023-04-03T22:41:15.061981",
     "status": "completed"
    },
    "tags": []
   },
   "outputs": [],
   "source": [
    "df_model = df.drop(['sepal_l','sepal_w'], axis=1)"
   ]
  },
  {
   "cell_type": "code",
   "execution_count": 10,
   "id": "c6e9c3a2",
   "metadata": {
    "execution": {
     "iopub.execute_input": "2023-04-03T22:41:15.128003Z",
     "iopub.status.busy": "2023-04-03T22:41:15.127388Z",
     "iopub.status.idle": "2023-04-03T22:41:15.145222Z",
     "shell.execute_reply": "2023-04-03T22:41:15.144062Z"
    },
    "papermill": {
     "duration": 0.039932,
     "end_time": "2023-04-03T22:41:15.147645",
     "exception": false,
     "start_time": "2023-04-03T22:41:15.107713",
     "status": "completed"
    },
    "tags": []
   },
   "outputs": [
    {
     "data": {
      "text/html": [
       "<div>\n",
       "<style scoped>\n",
       "    .dataframe tbody tr th:only-of-type {\n",
       "        vertical-align: middle;\n",
       "    }\n",
       "\n",
       "    .dataframe tbody tr th {\n",
       "        vertical-align: top;\n",
       "    }\n",
       "\n",
       "    .dataframe thead th {\n",
       "        text-align: right;\n",
       "    }\n",
       "</style>\n",
       "<table border=\"1\" class=\"dataframe\">\n",
       "  <thead>\n",
       "    <tr style=\"text-align: right;\">\n",
       "      <th></th>\n",
       "      <th>petal_l</th>\n",
       "      <th>petal_w</th>\n",
       "      <th>species</th>\n",
       "      <th>target</th>\n",
       "    </tr>\n",
       "  </thead>\n",
       "  <tbody>\n",
       "    <tr>\n",
       "      <th>0</th>\n",
       "      <td>1.4</td>\n",
       "      <td>0.2</td>\n",
       "      <td>Iris-setosa</td>\n",
       "      <td>0</td>\n",
       "    </tr>\n",
       "    <tr>\n",
       "      <th>1</th>\n",
       "      <td>1.4</td>\n",
       "      <td>0.2</td>\n",
       "      <td>Iris-setosa</td>\n",
       "      <td>0</td>\n",
       "    </tr>\n",
       "    <tr>\n",
       "      <th>2</th>\n",
       "      <td>1.3</td>\n",
       "      <td>0.2</td>\n",
       "      <td>Iris-setosa</td>\n",
       "      <td>0</td>\n",
       "    </tr>\n",
       "    <tr>\n",
       "      <th>3</th>\n",
       "      <td>1.5</td>\n",
       "      <td>0.2</td>\n",
       "      <td>Iris-setosa</td>\n",
       "      <td>0</td>\n",
       "    </tr>\n",
       "    <tr>\n",
       "      <th>4</th>\n",
       "      <td>1.4</td>\n",
       "      <td>0.2</td>\n",
       "      <td>Iris-setosa</td>\n",
       "      <td>0</td>\n",
       "    </tr>\n",
       "    <tr>\n",
       "      <th>...</th>\n",
       "      <td>...</td>\n",
       "      <td>...</td>\n",
       "      <td>...</td>\n",
       "      <td>...</td>\n",
       "    </tr>\n",
       "    <tr>\n",
       "      <th>145</th>\n",
       "      <td>5.2</td>\n",
       "      <td>2.3</td>\n",
       "      <td>Iris-virginica</td>\n",
       "      <td>2</td>\n",
       "    </tr>\n",
       "    <tr>\n",
       "      <th>146</th>\n",
       "      <td>5.0</td>\n",
       "      <td>1.9</td>\n",
       "      <td>Iris-virginica</td>\n",
       "      <td>2</td>\n",
       "    </tr>\n",
       "    <tr>\n",
       "      <th>147</th>\n",
       "      <td>5.2</td>\n",
       "      <td>2.0</td>\n",
       "      <td>Iris-virginica</td>\n",
       "      <td>2</td>\n",
       "    </tr>\n",
       "    <tr>\n",
       "      <th>148</th>\n",
       "      <td>5.4</td>\n",
       "      <td>2.3</td>\n",
       "      <td>Iris-virginica</td>\n",
       "      <td>2</td>\n",
       "    </tr>\n",
       "    <tr>\n",
       "      <th>149</th>\n",
       "      <td>5.1</td>\n",
       "      <td>1.8</td>\n",
       "      <td>Iris-virginica</td>\n",
       "      <td>2</td>\n",
       "    </tr>\n",
       "  </tbody>\n",
       "</table>\n",
       "<p>150 rows × 4 columns</p>\n",
       "</div>"
      ],
      "text/plain": [
       "     petal_l  petal_w         species  target\n",
       "0        1.4      0.2     Iris-setosa       0\n",
       "1        1.4      0.2     Iris-setosa       0\n",
       "2        1.3      0.2     Iris-setosa       0\n",
       "3        1.5      0.2     Iris-setosa       0\n",
       "4        1.4      0.2     Iris-setosa       0\n",
       "..       ...      ...             ...     ...\n",
       "145      5.2      2.3  Iris-virginica       2\n",
       "146      5.0      1.9  Iris-virginica       2\n",
       "147      5.2      2.0  Iris-virginica       2\n",
       "148      5.4      2.3  Iris-virginica       2\n",
       "149      5.1      1.8  Iris-virginica       2\n",
       "\n",
       "[150 rows x 4 columns]"
      ]
     },
     "execution_count": 10,
     "metadata": {},
     "output_type": "execute_result"
    }
   ],
   "source": [
    "df_model"
   ]
  },
  {
   "cell_type": "markdown",
   "id": "dcaa0df4",
   "metadata": {
    "papermill": {
     "duration": 0.014983,
     "end_time": "2023-04-03T22:41:15.178158",
     "exception": false,
     "start_time": "2023-04-03T22:41:15.163175",
     "status": "completed"
    },
    "tags": []
   },
   "source": [
    "# 4. Preparación del dataset para modelamiento"
   ]
  },
  {
   "cell_type": "code",
   "execution_count": 11,
   "id": "eea52f47",
   "metadata": {
    "execution": {
     "iopub.execute_input": "2023-04-03T22:41:15.213836Z",
     "iopub.status.busy": "2023-04-03T22:41:15.213444Z",
     "iopub.status.idle": "2023-04-03T22:41:15.220177Z",
     "shell.execute_reply": "2023-04-03T22:41:15.218671Z"
    },
    "papermill": {
     "duration": 0.027718,
     "end_time": "2023-04-03T22:41:15.223025",
     "exception": false,
     "start_time": "2023-04-03T22:41:15.195307",
     "status": "completed"
    },
    "tags": []
   },
   "outputs": [],
   "source": [
    "X = df_model.drop(['species','target'], axis=1)\n",
    "Y = df_model['target']"
   ]
  },
  {
   "cell_type": "code",
   "execution_count": 12,
   "id": "038221e4",
   "metadata": {
    "execution": {
     "iopub.execute_input": "2023-04-03T22:41:15.258596Z",
     "iopub.status.busy": "2023-04-03T22:41:15.257927Z",
     "iopub.status.idle": "2023-04-03T22:41:15.269625Z",
     "shell.execute_reply": "2023-04-03T22:41:15.268442Z"
    },
    "papermill": {
     "duration": 0.032482,
     "end_time": "2023-04-03T22:41:15.272385",
     "exception": false,
     "start_time": "2023-04-03T22:41:15.239903",
     "status": "completed"
    },
    "tags": []
   },
   "outputs": [
    {
     "data": {
      "text/html": [
       "<div>\n",
       "<style scoped>\n",
       "    .dataframe tbody tr th:only-of-type {\n",
       "        vertical-align: middle;\n",
       "    }\n",
       "\n",
       "    .dataframe tbody tr th {\n",
       "        vertical-align: top;\n",
       "    }\n",
       "\n",
       "    .dataframe thead th {\n",
       "        text-align: right;\n",
       "    }\n",
       "</style>\n",
       "<table border=\"1\" class=\"dataframe\">\n",
       "  <thead>\n",
       "    <tr style=\"text-align: right;\">\n",
       "      <th></th>\n",
       "      <th>petal_l</th>\n",
       "      <th>petal_w</th>\n",
       "    </tr>\n",
       "  </thead>\n",
       "  <tbody>\n",
       "    <tr>\n",
       "      <th>0</th>\n",
       "      <td>1.4</td>\n",
       "      <td>0.2</td>\n",
       "    </tr>\n",
       "    <tr>\n",
       "      <th>1</th>\n",
       "      <td>1.4</td>\n",
       "      <td>0.2</td>\n",
       "    </tr>\n",
       "    <tr>\n",
       "      <th>2</th>\n",
       "      <td>1.3</td>\n",
       "      <td>0.2</td>\n",
       "    </tr>\n",
       "    <tr>\n",
       "      <th>3</th>\n",
       "      <td>1.5</td>\n",
       "      <td>0.2</td>\n",
       "    </tr>\n",
       "    <tr>\n",
       "      <th>4</th>\n",
       "      <td>1.4</td>\n",
       "      <td>0.2</td>\n",
       "    </tr>\n",
       "  </tbody>\n",
       "</table>\n",
       "</div>"
      ],
      "text/plain": [
       "   petal_l  petal_w\n",
       "0      1.4      0.2\n",
       "1      1.4      0.2\n",
       "2      1.3      0.2\n",
       "3      1.5      0.2\n",
       "4      1.4      0.2"
      ]
     },
     "execution_count": 12,
     "metadata": {},
     "output_type": "execute_result"
    }
   ],
   "source": [
    "X.head()"
   ]
  },
  {
   "cell_type": "code",
   "execution_count": 13,
   "id": "e1d127df",
   "metadata": {
    "execution": {
     "iopub.execute_input": "2023-04-03T22:41:15.307804Z",
     "iopub.status.busy": "2023-04-03T22:41:15.307364Z",
     "iopub.status.idle": "2023-04-03T22:41:15.312154Z",
     "shell.execute_reply": "2023-04-03T22:41:15.311226Z"
    },
    "papermill": {
     "duration": 0.025293,
     "end_time": "2023-04-03T22:41:15.314437",
     "exception": false,
     "start_time": "2023-04-03T22:41:15.289144",
     "status": "completed"
    },
    "tags": []
   },
   "outputs": [],
   "source": [
    "X = X.values\n",
    "Y = Y.values"
   ]
  },
  {
   "cell_type": "code",
   "execution_count": 14,
   "id": "37c872a6",
   "metadata": {
    "execution": {
     "iopub.execute_input": "2023-04-03T22:41:15.349616Z",
     "iopub.status.busy": "2023-04-03T22:41:15.349081Z",
     "iopub.status.idle": "2023-04-03T22:41:15.358807Z",
     "shell.execute_reply": "2023-04-03T22:41:15.357131Z"
    },
    "papermill": {
     "duration": 0.031524,
     "end_time": "2023-04-03T22:41:15.362660",
     "exception": false,
     "start_time": "2023-04-03T22:41:15.331136",
     "status": "completed"
    },
    "tags": []
   },
   "outputs": [
    {
     "data": {
      "text/plain": [
       "array([0, 0, 0, 0, 0, 0, 0, 0, 0, 0, 0, 0, 0, 0, 0, 0, 0, 0, 0, 0, 0, 0,\n",
       "       0, 0, 0, 0, 0, 0, 0, 0, 0, 0, 0, 0, 0, 0, 0, 0, 0, 0, 0, 0, 0, 0,\n",
       "       0, 0, 0, 0, 0, 0, 1, 1, 1, 1, 1, 1, 1, 1, 1, 1, 1, 1, 1, 1, 1, 1,\n",
       "       1, 1, 1, 1, 1, 1, 1, 1, 1, 1, 1, 1, 1, 1, 1, 1, 1, 1, 1, 1, 1, 1,\n",
       "       1, 1, 1, 1, 1, 1, 1, 1, 1, 1, 1, 1, 2, 2, 2, 2, 2, 2, 2, 2, 2, 2,\n",
       "       2, 2, 2, 2, 2, 2, 2, 2, 2, 2, 2, 2, 2, 2, 2, 2, 2, 2, 2, 2, 2, 2,\n",
       "       2, 2, 2, 2, 2, 2, 2, 2, 2, 2, 2, 2, 2, 2, 2, 2, 2, 2])"
      ]
     },
     "execution_count": 14,
     "metadata": {},
     "output_type": "execute_result"
    }
   ],
   "source": [
    "Y"
   ]
  },
  {
   "cell_type": "markdown",
   "id": "c0493480",
   "metadata": {
    "papermill": {
     "duration": 0.017336,
     "end_time": "2023-04-03T22:41:15.396840",
     "exception": false,
     "start_time": "2023-04-03T22:41:15.379504",
     "status": "completed"
    },
    "tags": []
   },
   "source": [
    "# 5. Baseline Model"
   ]
  },
  {
   "cell_type": "markdown",
   "id": "af50fb68",
   "metadata": {
    "papermill": {
     "duration": 0.015532,
     "end_time": "2023-04-03T22:41:15.429759",
     "exception": false,
     "start_time": "2023-04-03T22:41:15.414227",
     "status": "completed"
    },
    "tags": []
   },
   "source": [
    "What is the simples model we can think of?\n",
    "\n",
    "In this case, if our baseline model is just randomly guessing the species of flower, or guessing a single species for every data point, we could expect to have a model accuracy of 0.33 or 33%, since we have 3 different classes that are evenly balanced-\n",
    "\n",
    "So our models should at least beat 33% accuracy\n",
    "\n",
    "so this is the absolute worst that any model we create should do if our model isn't at least doing 33% accuracy then we would be better off by randomly guessing so this is kind of the the floor and this\n",
    "\n",
    "this is basically our model this single the single function here with with very simple you know if else rules and you might be surprised to learn that this is actually kind of what happens for some machine learning model so there's actually tree-based models so decision tree based models which do basically this kind of if-else thing they just they automatically do it for you but under the hood you know you're just doing a bunch of if-else statements and that's what decision trees are which are or you know they used to be very very popular machine learning models i think that maybe these days not quite as much anymore but you'll still see people"
   ]
  },
  {
   "cell_type": "markdown",
   "id": "61c4d47c",
   "metadata": {
    "papermill": {
     "duration": 0.016021,
     "end_time": "2023-04-03T22:41:15.461717",
     "exception": false,
     "start_time": "2023-04-03T22:41:15.445696",
     "status": "completed"
    },
    "tags": []
   },
   "source": [
    "# 6. Modelo Manual"
   ]
  },
  {
   "cell_type": "code",
   "execution_count": 15,
   "id": "aa114cc5",
   "metadata": {
    "execution": {
     "iopub.execute_input": "2023-04-03T22:41:15.498502Z",
     "iopub.status.busy": "2023-04-03T22:41:15.498032Z",
     "iopub.status.idle": "2023-04-03T22:41:15.504877Z",
     "shell.execute_reply": "2023-04-03T22:41:15.503212Z"
    },
    "papermill": {
     "duration": 0.029199,
     "end_time": "2023-04-03T22:41:15.508017",
     "exception": false,
     "start_time": "2023-04-03T22:41:15.478818",
     "status": "completed"
    },
    "tags": []
   },
   "outputs": [],
   "source": [
    "def manual_model(petal_l):\n",
    "    if petal_l < 2.5:\n",
    "        return 0\n",
    "    elif petal_l < 5:\n",
    "        return 1\n",
    "    else:\n",
    "        return 2"
   ]
  },
  {
   "cell_type": "code",
   "execution_count": 16,
   "id": "aa3c6180",
   "metadata": {
    "execution": {
     "iopub.execute_input": "2023-04-03T22:41:15.542866Z",
     "iopub.status.busy": "2023-04-03T22:41:15.541223Z",
     "iopub.status.idle": "2023-04-03T22:41:15.553035Z",
     "shell.execute_reply": "2023-04-03T22:41:15.551412Z"
    },
    "papermill": {
     "duration": 0.032749,
     "end_time": "2023-04-03T22:41:15.556537",
     "exception": false,
     "start_time": "2023-04-03T22:41:15.523788",
     "status": "completed"
    },
    "tags": []
   },
   "outputs": [
    {
     "data": {
      "text/plain": [
       "array([1.4, 1.4, 1.3, 1.5, 1.4, 1.7, 1.4, 1.5, 1.4, 1.5, 1.5, 1.6, 1.4,\n",
       "       1.1, 1.2, 1.5, 1.3, 1.4, 1.7, 1.5, 1.7, 1.5, 1. , 1.7, 1.9, 1.6,\n",
       "       1.6, 1.5, 1.4, 1.6, 1.6, 1.5, 1.5, 1.4, 1.5, 1.2, 1.3, 1.5, 1.3,\n",
       "       1.5, 1.3, 1.3, 1.3, 1.6, 1.9, 1.4, 1.6, 1.4, 1.5, 1.4, 4.7, 4.5,\n",
       "       4.9, 4. , 4.6, 4.5, 4.7, 3.3, 4.6, 3.9, 3.5, 4.2, 4. , 4.7, 3.6,\n",
       "       4.4, 4.5, 4.1, 4.5, 3.9, 4.8, 4. , 4.9, 4.7, 4.3, 4.4, 4.8, 5. ,\n",
       "       4.5, 3.5, 3.8, 3.7, 3.9, 5.1, 4.5, 4.5, 4.7, 4.4, 4.1, 4. , 4.4,\n",
       "       4.6, 4. , 3.3, 4.2, 4.2, 4.2, 4.3, 3. , 4.1, 6. , 5.1, 5.9, 5.6,\n",
       "       5.8, 6.6, 4.5, 6.3, 5.8, 6.1, 5.1, 5.3, 5.5, 5. , 5.1, 5.3, 5.5,\n",
       "       6.7, 6.9, 5. , 5.7, 4.9, 6.7, 4.9, 5.7, 6. , 4.8, 4.9, 5.6, 5.8,\n",
       "       6.1, 6.4, 5.6, 5.1, 5.6, 6.1, 5.6, 5.5, 4.8, 5.4, 5.6, 5.1, 5.1,\n",
       "       5.9, 5.7, 5.2, 5. , 5.2, 5.4, 5.1])"
      ]
     },
     "execution_count": 16,
     "metadata": {},
     "output_type": "execute_result"
    }
   ],
   "source": [
    "X[:,0]"
   ]
  },
  {
   "cell_type": "code",
   "execution_count": 17,
   "id": "3a73ada6",
   "metadata": {
    "execution": {
     "iopub.execute_input": "2023-04-03T22:41:15.593841Z",
     "iopub.status.busy": "2023-04-03T22:41:15.593431Z",
     "iopub.status.idle": "2023-04-03T22:41:15.600380Z",
     "shell.execute_reply": "2023-04-03T22:41:15.599392Z"
    },
    "papermill": {
     "duration": 0.02867,
     "end_time": "2023-04-03T22:41:15.603394",
     "exception": false,
     "start_time": "2023-04-03T22:41:15.574724",
     "status": "completed"
    },
    "tags": []
   },
   "outputs": [],
   "source": [
    "manual_pred = np.array([])\n",
    "\n",
    "for i in X[:,0]:\n",
    "    pred_i = manual_model(i)\n",
    "    manual_pred = np.append(manual_pred, pred_i)"
   ]
  },
  {
   "cell_type": "code",
   "execution_count": 18,
   "id": "eb34d41e",
   "metadata": {
    "execution": {
     "iopub.execute_input": "2023-04-03T22:41:15.637660Z",
     "iopub.status.busy": "2023-04-03T22:41:15.637216Z",
     "iopub.status.idle": "2023-04-03T22:41:15.645642Z",
     "shell.execute_reply": "2023-04-03T22:41:15.644644Z"
    },
    "papermill": {
     "duration": 0.028298,
     "end_time": "2023-04-03T22:41:15.648056",
     "exception": false,
     "start_time": "2023-04-03T22:41:15.619758",
     "status": "completed"
    },
    "tags": []
   },
   "outputs": [
    {
     "data": {
      "text/plain": [
       "array([0., 0., 0., 0., 0., 0., 0., 0., 0., 0., 0., 0., 0., 0., 0., 0., 0.,\n",
       "       0., 0., 0., 0., 0., 0., 0., 0., 0., 0., 0., 0., 0., 0., 0., 0., 0.,\n",
       "       0., 0., 0., 0., 0., 0., 0., 0., 0., 0., 0., 0., 0., 0., 0., 0., 1.,\n",
       "       1., 1., 1., 1., 1., 1., 1., 1., 1., 1., 1., 1., 1., 1., 1., 1., 1.,\n",
       "       1., 1., 1., 1., 1., 1., 1., 1., 1., 2., 1., 1., 1., 1., 1., 2., 1.,\n",
       "       1., 1., 1., 1., 1., 1., 1., 1., 1., 1., 1., 1., 1., 1., 1., 2., 2.,\n",
       "       2., 2., 2., 2., 1., 2., 2., 2., 2., 2., 2., 2., 2., 2., 2., 2., 2.,\n",
       "       2., 2., 1., 2., 1., 2., 2., 1., 1., 2., 2., 2., 2., 2., 2., 2., 2.,\n",
       "       2., 2., 1., 2., 2., 2., 2., 2., 2., 2., 2., 2., 2., 2.])"
      ]
     },
     "execution_count": 18,
     "metadata": {},
     "output_type": "execute_result"
    }
   ],
   "source": [
    "manual_pred"
   ]
  },
  {
   "cell_type": "code",
   "execution_count": 19,
   "id": "9a7157a2",
   "metadata": {
    "execution": {
     "iopub.execute_input": "2023-04-03T22:41:15.682387Z",
     "iopub.status.busy": "2023-04-03T22:41:15.681517Z",
     "iopub.status.idle": "2023-04-03T22:41:15.689361Z",
     "shell.execute_reply": "2023-04-03T22:41:15.688365Z"
    },
    "papermill": {
     "duration": 0.027788,
     "end_time": "2023-04-03T22:41:15.691776",
     "exception": false,
     "start_time": "2023-04-03T22:41:15.663988",
     "status": "completed"
    },
    "tags": []
   },
   "outputs": [
    {
     "data": {
      "text/plain": [
       "array([ True,  True,  True,  True,  True,  True,  True,  True,  True,\n",
       "        True,  True,  True,  True,  True,  True,  True,  True,  True,\n",
       "        True,  True,  True,  True,  True,  True,  True,  True,  True,\n",
       "        True,  True,  True,  True,  True,  True,  True,  True,  True,\n",
       "        True,  True,  True,  True,  True,  True,  True,  True,  True,\n",
       "        True,  True,  True,  True,  True,  True,  True,  True,  True,\n",
       "        True,  True,  True,  True,  True,  True,  True,  True,  True,\n",
       "        True,  True,  True,  True,  True,  True,  True,  True,  True,\n",
       "        True,  True,  True,  True,  True, False,  True,  True,  True,\n",
       "        True,  True, False,  True,  True,  True,  True,  True,  True,\n",
       "        True,  True,  True,  True,  True,  True,  True,  True,  True,\n",
       "        True,  True,  True,  True,  True,  True,  True, False,  True,\n",
       "        True,  True,  True,  True,  True,  True,  True,  True,  True,\n",
       "        True,  True,  True,  True, False,  True, False,  True,  True,\n",
       "       False, False,  True,  True,  True,  True,  True,  True,  True,\n",
       "        True,  True,  True, False,  True,  True,  True,  True,  True,\n",
       "        True,  True,  True,  True,  True,  True])"
      ]
     },
     "execution_count": 19,
     "metadata": {},
     "output_type": "execute_result"
    }
   ],
   "source": [
    "manual_pred == Y"
   ]
  },
  {
   "cell_type": "code",
   "execution_count": 20,
   "id": "6dfcd256",
   "metadata": {
    "execution": {
     "iopub.execute_input": "2023-04-03T22:41:15.725689Z",
     "iopub.status.busy": "2023-04-03T22:41:15.724559Z",
     "iopub.status.idle": "2023-04-03T22:41:15.734745Z",
     "shell.execute_reply": "2023-04-03T22:41:15.733431Z"
    },
    "papermill": {
     "duration": 0.029853,
     "end_time": "2023-04-03T22:41:15.737282",
     "exception": false,
     "start_time": "2023-04-03T22:41:15.707429",
     "status": "completed"
    },
    "tags": []
   },
   "outputs": [
    {
     "data": {
      "text/plain": [
       "0.9466666666666667"
      ]
     },
     "execution_count": 20,
     "metadata": {},
     "output_type": "execute_result"
    }
   ],
   "source": [
    "np.mean(manual_pred == Y)"
   ]
  },
  {
   "cell_type": "code",
   "execution_count": 21,
   "id": "67e5ff14",
   "metadata": {
    "execution": {
     "iopub.execute_input": "2023-04-03T22:41:15.771320Z",
     "iopub.status.busy": "2023-04-03T22:41:15.770799Z",
     "iopub.status.idle": "2023-04-03T22:41:15.779153Z",
     "shell.execute_reply": "2023-04-03T22:41:15.776882Z"
    },
    "papermill": {
     "duration": 0.028406,
     "end_time": "2023-04-03T22:41:15.781818",
     "exception": false,
     "start_time": "2023-04-03T22:41:15.753412",
     "status": "completed"
    },
    "tags": []
   },
   "outputs": [
    {
     "name": "stdout",
     "output_type": "stream",
     "text": [
      "Exactitud del modelo manual: 94.67%\n"
     ]
    }
   ],
   "source": [
    "manual_score = np.mean(manual_pred == Y)\n",
    "print(f'Exactitud del modelo manual: {manual_score*100:.2f}%')"
   ]
  },
  {
   "cell_type": "markdown",
   "id": "237d8d05",
   "metadata": {
    "papermill": {
     "duration": 0.016026,
     "end_time": "2023-04-03T22:41:15.813668",
     "exception": false,
     "start_time": "2023-04-03T22:41:15.797642",
     "status": "completed"
    },
    "tags": []
   },
   "source": [
    "# 8. Modelo con Regresión Lógistica"
   ]
  },
  {
   "cell_type": "code",
   "execution_count": 22,
   "id": "e95c8868",
   "metadata": {
    "execution": {
     "iopub.execute_input": "2023-04-03T22:41:15.848266Z",
     "iopub.status.busy": "2023-04-03T22:41:15.847693Z",
     "iopub.status.idle": "2023-04-03T22:41:16.212026Z",
     "shell.execute_reply": "2023-04-03T22:41:16.210458Z"
    },
    "papermill": {
     "duration": 0.385773,
     "end_time": "2023-04-03T22:41:16.215233",
     "exception": false,
     "start_time": "2023-04-03T22:41:15.829460",
     "status": "completed"
    },
    "tags": []
   },
   "outputs": [],
   "source": [
    "from sklearn.linear_model import LogisticRegression"
   ]
  },
  {
   "cell_type": "markdown",
   "id": "3e42e7bb",
   "metadata": {
    "papermill": {
     "duration": 0.015314,
     "end_time": "2023-04-03T22:41:16.246197",
     "exception": false,
     "start_time": "2023-04-03T22:41:16.230883",
     "status": "completed"
    },
    "tags": []
   },
   "source": [
    "## 8.1. Entrenamiento y evaluación del modelo mediante un set de evaluación"
   ]
  },
  {
   "cell_type": "markdown",
   "id": "cb9cda90",
   "metadata": {
    "papermill": {
     "duration": 0.015328,
     "end_time": "2023-04-03T22:41:16.277100",
     "exception": false,
     "start_time": "2023-04-03T22:41:16.261772",
     "status": "completed"
    },
    "tags": []
   },
   "source": [
    "Train and test on the same dataset\n",
    "This method is not suggested since the end goal is to predict iris species using a dataset the model has not seen before.\n",
    "There is also a risk of overfitting the training data.\n",
    "\n",
    "Split the dataset into a training set and a testing set\n",
    "Advantages\n",
    "By splitting the dataset pseudo-randomly into a two separate sets, we can train using one set and test using another.\n",
    "This ensures that we won't use the same observations in both sets.\n",
    "More flexible and faster than creating a model using all of the dataset for training.\n",
    "Disadvantages\n",
    "The accuracy scores for the testing set can vary depending on what observations are in the set.\n",
    "This disadvantage can be countered using k-fold cross-validation.\n",
    "Notes\n",
    "The accuracy score of the models depends on the observations in the testing set, which is determined by the seed of the pseudo-random number generator (random_state parameter).\n",
    "As a model's complexity increases, the training accuracy (accuracy you get when you train and test the model on the same data) increases.\n",
    "If a model is too complex or not complex enough, the testing accuracy is lower.\n",
    "For KNN models, the value of k determines the level of complexity. A lower value of k means that the model is more complex."
   ]
  },
  {
   "cell_type": "markdown",
   "id": "9378f438",
   "metadata": {
    "papermill": {
     "duration": 0.015929,
     "end_time": "2023-04-03T22:41:16.308627",
     "exception": false,
     "start_time": "2023-04-03T22:41:16.292698",
     "status": "completed"
    },
    "tags": []
   },
   "source": [
    "### Generación del set de entrenamiento y evaluación"
   ]
  },
  {
   "cell_type": "code",
   "execution_count": 23,
   "id": "755178e2",
   "metadata": {
    "execution": {
     "iopub.execute_input": "2023-04-03T22:41:16.343124Z",
     "iopub.status.busy": "2023-04-03T22:41:16.342680Z",
     "iopub.status.idle": "2023-04-03T22:41:16.349365Z",
     "shell.execute_reply": "2023-04-03T22:41:16.347667Z"
    },
    "papermill": {
     "duration": 0.027168,
     "end_time": "2023-04-03T22:41:16.351837",
     "exception": false,
     "start_time": "2023-04-03T22:41:16.324669",
     "status": "completed"
    },
    "tags": []
   },
   "outputs": [],
   "source": [
    "from sklearn.model_selection import train_test_split"
   ]
  },
  {
   "cell_type": "code",
   "execution_count": 24,
   "id": "86b9765f",
   "metadata": {
    "execution": {
     "iopub.execute_input": "2023-04-03T22:41:16.385522Z",
     "iopub.status.busy": "2023-04-03T22:41:16.385020Z",
     "iopub.status.idle": "2023-04-03T22:41:16.396564Z",
     "shell.execute_reply": "2023-04-03T22:41:16.393957Z"
    },
    "papermill": {
     "duration": 0.032481,
     "end_time": "2023-04-03T22:41:16.400019",
     "exception": false,
     "start_time": "2023-04-03T22:41:16.367538",
     "status": "completed"
    },
    "tags": []
   },
   "outputs": [],
   "source": [
    "X_train, X_test, Y_train, Y_test = train_test_split(X, Y, train_size=0.8)"
   ]
  },
  {
   "cell_type": "code",
   "execution_count": 25,
   "id": "869f3f63",
   "metadata": {
    "execution": {
     "iopub.execute_input": "2023-04-03T22:41:16.434890Z",
     "iopub.status.busy": "2023-04-03T22:41:16.434423Z",
     "iopub.status.idle": "2023-04-03T22:41:16.441888Z",
     "shell.execute_reply": "2023-04-03T22:41:16.440340Z"
    },
    "papermill": {
     "duration": 0.028735,
     "end_time": "2023-04-03T22:41:16.445585",
     "exception": false,
     "start_time": "2023-04-03T22:41:16.416850",
     "status": "completed"
    },
    "tags": []
   },
   "outputs": [
    {
     "name": "stdout",
     "output_type": "stream",
     "text": [
      "Nro. muestras entrenamiento: 120\n",
      "Nro. de muestras evaluación: 30\n"
     ]
    }
   ],
   "source": [
    "print(f'Nro. muestras entrenamiento: {X_train.shape[0]}\\nNro. de muestras evaluación: {X_test.shape[0]}')"
   ]
  },
  {
   "cell_type": "markdown",
   "id": "8cf9d099",
   "metadata": {
    "papermill": {
     "duration": 0.015318,
     "end_time": "2023-04-03T22:41:16.477046",
     "exception": false,
     "start_time": "2023-04-03T22:41:16.461728",
     "status": "completed"
    },
    "tags": []
   },
   "source": [
    "### Entrenamiento"
   ]
  },
  {
   "cell_type": "code",
   "execution_count": 26,
   "id": "51fc4079",
   "metadata": {
    "execution": {
     "iopub.execute_input": "2023-04-03T22:41:16.511350Z",
     "iopub.status.busy": "2023-04-03T22:41:16.510574Z",
     "iopub.status.idle": "2023-04-03T22:41:16.515491Z",
     "shell.execute_reply": "2023-04-03T22:41:16.514389Z"
    },
    "papermill": {
     "duration": 0.025453,
     "end_time": "2023-04-03T22:41:16.518154",
     "exception": false,
     "start_time": "2023-04-03T22:41:16.492701",
     "status": "completed"
    },
    "tags": []
   },
   "outputs": [],
   "source": [
    "model = LogisticRegression()"
   ]
  },
  {
   "cell_type": "code",
   "execution_count": 27,
   "id": "574f7a8b",
   "metadata": {
    "execution": {
     "iopub.execute_input": "2023-04-03T22:41:16.554313Z",
     "iopub.status.busy": "2023-04-03T22:41:16.553731Z",
     "iopub.status.idle": "2023-04-03T22:41:16.594640Z",
     "shell.execute_reply": "2023-04-03T22:41:16.593087Z"
    },
    "papermill": {
     "duration": 0.062761,
     "end_time": "2023-04-03T22:41:16.597575",
     "exception": false,
     "start_time": "2023-04-03T22:41:16.534814",
     "status": "completed"
    },
    "tags": []
   },
   "outputs": [
    {
     "data": {
      "text/plain": [
       "LogisticRegression()"
      ]
     },
     "execution_count": 27,
     "metadata": {},
     "output_type": "execute_result"
    }
   ],
   "source": [
    "model.fit(X_train, Y_train)"
   ]
  },
  {
   "cell_type": "markdown",
   "id": "0e4d06de",
   "metadata": {
    "execution": {
     "iopub.execute_input": "2023-04-03T22:25:38.316189Z",
     "iopub.status.busy": "2023-04-03T22:25:38.315792Z",
     "iopub.status.idle": "2023-04-03T22:25:38.321429Z",
     "shell.execute_reply": "2023-04-03T22:25:38.320110Z",
     "shell.execute_reply.started": "2023-04-03T22:25:38.316157Z"
    },
    "papermill": {
     "duration": 0.016275,
     "end_time": "2023-04-03T22:41:16.630981",
     "exception": false,
     "start_time": "2023-04-03T22:41:16.614706",
     "status": "completed"
    },
    "tags": []
   },
   "source": [
    "### Rendimiento en conjunto de evaluación"
   ]
  },
  {
   "cell_type": "code",
   "execution_count": 28,
   "id": "c6cfd645",
   "metadata": {
    "execution": {
     "iopub.execute_input": "2023-04-03T22:41:16.666673Z",
     "iopub.status.busy": "2023-04-03T22:41:16.666133Z",
     "iopub.status.idle": "2023-04-03T22:41:16.672848Z",
     "shell.execute_reply": "2023-04-03T22:41:16.671476Z"
    },
    "papermill": {
     "duration": 0.027319,
     "end_time": "2023-04-03T22:41:16.675649",
     "exception": false,
     "start_time": "2023-04-03T22:41:16.648330",
     "status": "completed"
    },
    "tags": []
   },
   "outputs": [],
   "source": [
    "Y_pred = model.predict(X_test)"
   ]
  },
  {
   "cell_type": "code",
   "execution_count": 29,
   "id": "b4c44b66",
   "metadata": {
    "execution": {
     "iopub.execute_input": "2023-04-03T22:41:16.711635Z",
     "iopub.status.busy": "2023-04-03T22:41:16.711132Z",
     "iopub.status.idle": "2023-04-03T22:41:16.719761Z",
     "shell.execute_reply": "2023-04-03T22:41:16.718286Z"
    },
    "papermill": {
     "duration": 0.03068,
     "end_time": "2023-04-03T22:41:16.722511",
     "exception": false,
     "start_time": "2023-04-03T22:41:16.691831",
     "status": "completed"
    },
    "tags": []
   },
   "outputs": [
    {
     "data": {
      "text/plain": [
       "array([2, 1, 1, 1, 1, 0, 1, 0, 2, 1, 2, 1, 0, 2, 1, 0, 2, 1, 0, 2, 0, 2,\n",
       "       1, 2, 0, 1, 1, 0, 2, 1])"
      ]
     },
     "execution_count": 29,
     "metadata": {},
     "output_type": "execute_result"
    }
   ],
   "source": [
    "Y_pred"
   ]
  },
  {
   "cell_type": "code",
   "execution_count": 30,
   "id": "a2486af6",
   "metadata": {
    "execution": {
     "iopub.execute_input": "2023-04-03T22:41:16.757084Z",
     "iopub.status.busy": "2023-04-03T22:41:16.756558Z",
     "iopub.status.idle": "2023-04-03T22:41:16.765985Z",
     "shell.execute_reply": "2023-04-03T22:41:16.764427Z"
    },
    "papermill": {
     "duration": 0.029585,
     "end_time": "2023-04-03T22:41:16.768378",
     "exception": false,
     "start_time": "2023-04-03T22:41:16.738793",
     "status": "completed"
    },
    "tags": []
   },
   "outputs": [
    {
     "data": {
      "text/plain": [
       "0.8666666666666667"
      ]
     },
     "execution_count": 30,
     "metadata": {},
     "output_type": "execute_result"
    }
   ],
   "source": [
    "np.mean(Y_pred == Y_test)"
   ]
  },
  {
   "cell_type": "code",
   "execution_count": 31,
   "id": "d7e902fa",
   "metadata": {
    "execution": {
     "iopub.execute_input": "2023-04-03T22:41:16.804204Z",
     "iopub.status.busy": "2023-04-03T22:41:16.803232Z",
     "iopub.status.idle": "2023-04-03T22:41:16.812121Z",
     "shell.execute_reply": "2023-04-03T22:41:16.810812Z"
    },
    "papermill": {
     "duration": 0.029528,
     "end_time": "2023-04-03T22:41:16.814602",
     "exception": false,
     "start_time": "2023-04-03T22:41:16.785074",
     "status": "completed"
    },
    "tags": []
   },
   "outputs": [
    {
     "data": {
      "text/plain": [
       "0.8666666666666667"
      ]
     },
     "execution_count": 31,
     "metadata": {},
     "output_type": "execute_result"
    }
   ],
   "source": [
    "model.score(X_test, Y_test)"
   ]
  },
  {
   "cell_type": "markdown",
   "id": "1fb881bb",
   "metadata": {
    "papermill": {
     "duration": 0.017756,
     "end_time": "2023-04-03T22:41:16.849271",
     "exception": false,
     "start_time": "2023-04-03T22:41:16.831515",
     "status": "completed"
    },
    "tags": []
   },
   "source": [
    "## 8.2. Evaluación del modelo mediante validación cruzada"
   ]
  },
  {
   "cell_type": "markdown",
   "id": "3d5d83f7",
   "metadata": {
    "papermill": {
     "duration": 0.016406,
     "end_time": "2023-04-03T22:41:16.883911",
     "exception": false,
     "start_time": "2023-04-03T22:41:16.867505",
     "status": "completed"
    },
    "tags": []
   },
   "source": [
    "![](https://zitaoshen.rbind.io/project/machine_learning/machine-learning-101-cross-vaildation/featured.png)"
   ]
  },
  {
   "cell_type": "code",
   "execution_count": 32,
   "id": "70d1932a",
   "metadata": {
    "execution": {
     "iopub.execute_input": "2023-04-03T22:41:16.920095Z",
     "iopub.status.busy": "2023-04-03T22:41:16.919411Z",
     "iopub.status.idle": "2023-04-03T22:41:16.924628Z",
     "shell.execute_reply": "2023-04-03T22:41:16.923727Z"
    },
    "papermill": {
     "duration": 0.026303,
     "end_time": "2023-04-03T22:41:16.927052",
     "exception": false,
     "start_time": "2023-04-03T22:41:16.900749",
     "status": "completed"
    },
    "tags": []
   },
   "outputs": [],
   "source": [
    "from sklearn.model_selection import cross_val_predict, cross_val_score"
   ]
  },
  {
   "cell_type": "code",
   "execution_count": 33,
   "id": "27de1af7",
   "metadata": {
    "execution": {
     "iopub.execute_input": "2023-04-03T22:41:16.963459Z",
     "iopub.status.busy": "2023-04-03T22:41:16.962778Z",
     "iopub.status.idle": "2023-04-03T22:41:17.043544Z",
     "shell.execute_reply": "2023-04-03T22:41:17.042317Z"
    },
    "papermill": {
     "duration": 0.102702,
     "end_time": "2023-04-03T22:41:17.046860",
     "exception": false,
     "start_time": "2023-04-03T22:41:16.944158",
     "status": "completed"
    },
    "tags": []
   },
   "outputs": [],
   "source": [
    "performance = cross_val_score(model, X, Y, cv=5, scoring='accuracy')"
   ]
  },
  {
   "cell_type": "code",
   "execution_count": 34,
   "id": "72ce6000",
   "metadata": {
    "execution": {
     "iopub.execute_input": "2023-04-03T22:41:17.086237Z",
     "iopub.status.busy": "2023-04-03T22:41:17.085050Z",
     "iopub.status.idle": "2023-04-03T22:41:17.092967Z",
     "shell.execute_reply": "2023-04-03T22:41:17.091734Z"
    },
    "papermill": {
     "duration": 0.031037,
     "end_time": "2023-04-03T22:41:17.095968",
     "exception": false,
     "start_time": "2023-04-03T22:41:17.064931",
     "status": "completed"
    },
    "tags": []
   },
   "outputs": [
    {
     "data": {
      "text/plain": [
       "array([0.96666667, 0.96666667, 0.93333333, 0.93333333, 1.        ])"
      ]
     },
     "execution_count": 34,
     "metadata": {},
     "output_type": "execute_result"
    }
   ],
   "source": [
    "performance"
   ]
  },
  {
   "cell_type": "code",
   "execution_count": 35,
   "id": "808d38c6",
   "metadata": {
    "execution": {
     "iopub.execute_input": "2023-04-03T22:41:17.134724Z",
     "iopub.status.busy": "2023-04-03T22:41:17.134018Z",
     "iopub.status.idle": "2023-04-03T22:41:17.142697Z",
     "shell.execute_reply": "2023-04-03T22:41:17.140865Z"
    },
    "papermill": {
     "duration": 0.031753,
     "end_time": "2023-04-03T22:41:17.145661",
     "exception": false,
     "start_time": "2023-04-03T22:41:17.113908",
     "status": "completed"
    },
    "tags": []
   },
   "outputs": [
    {
     "data": {
      "text/plain": [
       "0.96"
      ]
     },
     "execution_count": 35,
     "metadata": {},
     "output_type": "execute_result"
    }
   ],
   "source": [
    "np.mean(performance)"
   ]
  },
  {
   "cell_type": "markdown",
   "id": "d19f3801",
   "metadata": {
    "papermill": {
     "duration": 0.016104,
     "end_time": "2023-04-03T22:41:17.178532",
     "exception": false,
     "start_time": "2023-04-03T22:41:17.162428",
     "status": "completed"
    },
    "tags": []
   },
   "source": [
    "miss classifying points so the first thing that we need to do here is we need to get a list of predictions now since we're using this cross Val score what it's doing actually is it's it's fitting this model five different times and making five different sets of predictions and you know that's how it's doing this k-fold cross-validation but it's just returning the accuracy here it's not actually returning the predictions themselves so the way that we get the actual predictions using this kind of cross validated approach is this other function that we imported right here cross Val predict so cross Val predict"
   ]
  },
  {
   "cell_type": "markdown",
   "id": "e0b23f44",
   "metadata": {
    "papermill": {
     "duration": 0.016644,
     "end_time": "2023-04-03T22:41:17.212146",
     "exception": false,
     "start_time": "2023-04-03T22:41:17.195502",
     "status": "completed"
    },
    "tags": []
   },
   "source": [
    "## 8.3. Identificación de valores mal clasificados"
   ]
  },
  {
   "cell_type": "code",
   "execution_count": 36,
   "id": "e052ff85",
   "metadata": {
    "execution": {
     "iopub.execute_input": "2023-04-03T22:41:17.248320Z",
     "iopub.status.busy": "2023-04-03T22:41:17.247401Z",
     "iopub.status.idle": "2023-04-03T22:41:17.316899Z",
     "shell.execute_reply": "2023-04-03T22:41:17.315405Z"
    },
    "papermill": {
     "duration": 0.091126,
     "end_time": "2023-04-03T22:41:17.320210",
     "exception": false,
     "start_time": "2023-04-03T22:41:17.229084",
     "status": "completed"
    },
    "tags": []
   },
   "outputs": [],
   "source": [
    "Y_pred = cross_val_predict(model, X, Y, cv=5)"
   ]
  },
  {
   "cell_type": "code",
   "execution_count": 37,
   "id": "bbf3eb0f",
   "metadata": {
    "execution": {
     "iopub.execute_input": "2023-04-03T22:41:17.358753Z",
     "iopub.status.busy": "2023-04-03T22:41:17.357746Z",
     "iopub.status.idle": "2023-04-03T22:41:17.366276Z",
     "shell.execute_reply": "2023-04-03T22:41:17.365127Z"
    },
    "papermill": {
     "duration": 0.031392,
     "end_time": "2023-04-03T22:41:17.368891",
     "exception": false,
     "start_time": "2023-04-03T22:41:17.337499",
     "status": "completed"
    },
    "tags": []
   },
   "outputs": [
    {
     "data": {
      "text/plain": [
       "array([ True,  True,  True,  True,  True,  True,  True,  True,  True,\n",
       "        True,  True,  True,  True,  True,  True,  True,  True,  True,\n",
       "        True,  True,  True,  True,  True,  True,  True,  True,  True,\n",
       "        True,  True,  True,  True,  True,  True,  True,  True,  True,\n",
       "        True,  True,  True,  True,  True,  True,  True,  True,  True,\n",
       "        True,  True,  True,  True,  True,  True,  True,  True,  True,\n",
       "        True,  True,  True,  True,  True,  True,  True,  True,  True,\n",
       "        True,  True,  True,  True,  True,  True,  True, False,  True,\n",
       "        True,  True,  True,  True,  True, False,  True,  True,  True,\n",
       "        True,  True, False,  True,  True,  True,  True,  True,  True,\n",
       "        True,  True,  True,  True,  True,  True,  True,  True,  True,\n",
       "        True,  True,  True,  True,  True,  True,  True, False,  True,\n",
       "        True,  True,  True,  True,  True,  True,  True,  True,  True,\n",
       "        True,  True, False,  True,  True,  True,  True,  True,  True,\n",
       "        True,  True,  True,  True,  True,  True,  True, False,  True,\n",
       "        True,  True,  True,  True,  True,  True,  True,  True,  True,\n",
       "        True,  True,  True,  True,  True,  True])"
      ]
     },
     "execution_count": 37,
     "metadata": {},
     "output_type": "execute_result"
    }
   ],
   "source": [
    "Y_pred == Y"
   ]
  },
  {
   "cell_type": "markdown",
   "id": "ee7416a2",
   "metadata": {
    "papermill": {
     "duration": 0.0186,
     "end_time": "2023-04-03T22:41:17.404911",
     "exception": false,
     "start_time": "2023-04-03T22:41:17.386311",
     "status": "completed"
    },
    "tags": []
   },
   "source": [
    "mask"
   ]
  },
  {
   "cell_type": "code",
   "execution_count": 38,
   "id": "3205b5f9",
   "metadata": {
    "execution": {
     "iopub.execute_input": "2023-04-03T22:41:17.443676Z",
     "iopub.status.busy": "2023-04-03T22:41:17.443259Z",
     "iopub.status.idle": "2023-04-03T22:41:17.448355Z",
     "shell.execute_reply": "2023-04-03T22:41:17.447187Z"
    },
    "papermill": {
     "duration": 0.027508,
     "end_time": "2023-04-03T22:41:17.450734",
     "exception": false,
     "start_time": "2023-04-03T22:41:17.423226",
     "status": "completed"
    },
    "tags": []
   },
   "outputs": [],
   "source": [
    "correct_mask = (Y_pred == Y)\n",
    "wrong_mask = ~correct_mask"
   ]
  },
  {
   "cell_type": "code",
   "execution_count": 39,
   "id": "c39a7ba8",
   "metadata": {
    "execution": {
     "iopub.execute_input": "2023-04-03T22:41:17.490979Z",
     "iopub.status.busy": "2023-04-03T22:41:17.490206Z",
     "iopub.status.idle": "2023-04-03T22:41:17.499395Z",
     "shell.execute_reply": "2023-04-03T22:41:17.498039Z"
    },
    "papermill": {
     "duration": 0.033214,
     "end_time": "2023-04-03T22:41:17.502324",
     "exception": false,
     "start_time": "2023-04-03T22:41:17.469110",
     "status": "completed"
    },
    "tags": []
   },
   "outputs": [
    {
     "data": {
      "text/plain": [
       "array([[4.8, 1.8],\n",
       "       [5. , 1.7],\n",
       "       [5.1, 1.6],\n",
       "       [4.5, 1.7],\n",
       "       [5. , 1.5],\n",
       "       [5.1, 1.5]])"
      ]
     },
     "execution_count": 39,
     "metadata": {},
     "output_type": "execute_result"
    }
   ],
   "source": [
    "X[wrong_mask]"
   ]
  },
  {
   "cell_type": "code",
   "execution_count": 40,
   "id": "5e5b12fb",
   "metadata": {
    "execution": {
     "iopub.execute_input": "2023-04-03T22:41:17.542418Z",
     "iopub.status.busy": "2023-04-03T22:41:17.542008Z",
     "iopub.status.idle": "2023-04-03T22:41:17.550053Z",
     "shell.execute_reply": "2023-04-03T22:41:17.548419Z"
    },
    "papermill": {
     "duration": 0.031611,
     "end_time": "2023-04-03T22:41:17.552680",
     "exception": false,
     "start_time": "2023-04-03T22:41:17.521069",
     "status": "completed"
    },
    "tags": []
   },
   "outputs": [],
   "source": [
    "df_pred = df_model.copy()\n",
    "df_pred['pred'] = Y_pred\n",
    "df_pred['correct_pred'] = correct_mask"
   ]
  },
  {
   "cell_type": "code",
   "execution_count": 41,
   "id": "88e6e565",
   "metadata": {
    "execution": {
     "iopub.execute_input": "2023-04-03T22:41:17.597175Z",
     "iopub.status.busy": "2023-04-03T22:41:17.596680Z",
     "iopub.status.idle": "2023-04-03T22:41:17.614964Z",
     "shell.execute_reply": "2023-04-03T22:41:17.613804Z"
    },
    "papermill": {
     "duration": 0.044559,
     "end_time": "2023-04-03T22:41:17.618075",
     "exception": false,
     "start_time": "2023-04-03T22:41:17.573516",
     "status": "completed"
    },
    "tags": []
   },
   "outputs": [
    {
     "data": {
      "text/html": [
       "<div>\n",
       "<style scoped>\n",
       "    .dataframe tbody tr th:only-of-type {\n",
       "        vertical-align: middle;\n",
       "    }\n",
       "\n",
       "    .dataframe tbody tr th {\n",
       "        vertical-align: top;\n",
       "    }\n",
       "\n",
       "    .dataframe thead th {\n",
       "        text-align: right;\n",
       "    }\n",
       "</style>\n",
       "<table border=\"1\" class=\"dataframe\">\n",
       "  <thead>\n",
       "    <tr style=\"text-align: right;\">\n",
       "      <th></th>\n",
       "      <th>petal_l</th>\n",
       "      <th>petal_w</th>\n",
       "      <th>species</th>\n",
       "      <th>target</th>\n",
       "      <th>pred</th>\n",
       "      <th>correct_pred</th>\n",
       "    </tr>\n",
       "  </thead>\n",
       "  <tbody>\n",
       "    <tr>\n",
       "      <th>70</th>\n",
       "      <td>4.8</td>\n",
       "      <td>1.8</td>\n",
       "      <td>Iris-versicolor</td>\n",
       "      <td>1</td>\n",
       "      <td>2</td>\n",
       "      <td>False</td>\n",
       "    </tr>\n",
       "    <tr>\n",
       "      <th>77</th>\n",
       "      <td>5.0</td>\n",
       "      <td>1.7</td>\n",
       "      <td>Iris-versicolor</td>\n",
       "      <td>1</td>\n",
       "      <td>2</td>\n",
       "      <td>False</td>\n",
       "    </tr>\n",
       "    <tr>\n",
       "      <th>83</th>\n",
       "      <td>5.1</td>\n",
       "      <td>1.6</td>\n",
       "      <td>Iris-versicolor</td>\n",
       "      <td>1</td>\n",
       "      <td>2</td>\n",
       "      <td>False</td>\n",
       "    </tr>\n",
       "    <tr>\n",
       "      <th>106</th>\n",
       "      <td>4.5</td>\n",
       "      <td>1.7</td>\n",
       "      <td>Iris-virginica</td>\n",
       "      <td>2</td>\n",
       "      <td>1</td>\n",
       "      <td>False</td>\n",
       "    </tr>\n",
       "    <tr>\n",
       "      <th>119</th>\n",
       "      <td>5.0</td>\n",
       "      <td>1.5</td>\n",
       "      <td>Iris-virginica</td>\n",
       "      <td>2</td>\n",
       "      <td>1</td>\n",
       "      <td>False</td>\n",
       "    </tr>\n",
       "    <tr>\n",
       "      <th>133</th>\n",
       "      <td>5.1</td>\n",
       "      <td>1.5</td>\n",
       "      <td>Iris-virginica</td>\n",
       "      <td>2</td>\n",
       "      <td>1</td>\n",
       "      <td>False</td>\n",
       "    </tr>\n",
       "  </tbody>\n",
       "</table>\n",
       "</div>"
      ],
      "text/plain": [
       "     petal_l  petal_w          species  target  pred  correct_pred\n",
       "70       4.8      1.8  Iris-versicolor       1     2         False\n",
       "77       5.0      1.7  Iris-versicolor       1     2         False\n",
       "83       5.1      1.6  Iris-versicolor       1     2         False\n",
       "106      4.5      1.7   Iris-virginica       2     1         False\n",
       "119      5.0      1.5   Iris-virginica       2     1         False\n",
       "133      5.1      1.5   Iris-virginica       2     1         False"
      ]
     },
     "execution_count": 41,
     "metadata": {},
     "output_type": "execute_result"
    }
   ],
   "source": [
    "filt = (df_pred['correct_pred']==False)\n",
    "df_pred.loc[filt]"
   ]
  },
  {
   "cell_type": "code",
   "execution_count": 42,
   "id": "c5260b3f",
   "metadata": {
    "execution": {
     "iopub.execute_input": "2023-04-03T22:41:17.655894Z",
     "iopub.status.busy": "2023-04-03T22:41:17.655464Z",
     "iopub.status.idle": "2023-04-03T22:41:18.515285Z",
     "shell.execute_reply": "2023-04-03T22:41:18.513384Z"
    },
    "papermill": {
     "duration": 0.882799,
     "end_time": "2023-04-03T22:41:18.519113",
     "exception": false,
     "start_time": "2023-04-03T22:41:17.636314",
     "status": "completed"
    },
    "tags": []
   },
   "outputs": [
    {
     "data": {
      "image/png": "[encoded data removed]",
      "text/plain": [
       "<Figure size 800x400 with 2 Axes>"
      ]
     },
     "metadata": {},
     "output_type": "display_data"
    }
   ],
   "source": [
    "# Ajustes de la figura de Matplotlib\n",
    "fig, ax = plt.subplots(nrows=1, ncols=2, figsize=(8, 4), sharex=True)\n",
    "\n",
    "sns.scatterplot(data=df_pred, x=\"petal_l\", y=\"petal_w\", ax=ax[0], hue=\"species\")\n",
    "\n",
    "sns.scatterplot(data=df_pred, x=\"petal_l\", y=\"petal_w\", ax=ax[1], hue=\"correct_pred\")\n",
    "\n",
    "plt.tight_layout()"
   ]
  },
  {
   "cell_type": "markdown",
   "id": "beb45190",
   "metadata": {
    "papermill": {
     "duration": 0.02287,
     "end_time": "2023-04-03T22:41:18.563253",
     "exception": false,
     "start_time": "2023-04-03T22:41:18.540383",
     "status": "completed"
    },
    "tags": []
   },
   "source": [
    "## 9. Conclusiones"
   ]
  },
  {
   "cell_type": "code",
   "execution_count": null,
   "id": "913afaa8",
   "metadata": {
    "papermill": {
     "duration": 0.019778,
     "end_time": "2023-04-03T22:41:18.605470",
     "exception": false,
     "start_time": "2023-04-03T22:41:18.585692",
     "status": "completed"
    },
    "tags": []
   },
   "outputs": [],
   "source": []
  }
 ],
 "metadata": {
  "kernelspec": {
   "display_name": "Python 3",
   "language": "python",
   "name": "python3"
  },
  "language_info": {
   "codemirror_mode": {
    "name": "ipython",
    "version": 3
   },
   "file_extension": ".py",
   "mimetype": "text/x-python",
   "name": "python",
   "nbconvert_exporter": "python",
   "pygments_lexer": "ipython3",
   "version": "3.7.12"
  },
  "papermill": {
   "default_parameters": {},
   "duration": 17.676148,
   "end_time": "2023-04-03T22:41:19.753387",
   "environment_variables": {},
   "exception": null,
   "input_path": "__notebook__.ipynb",
   "output_path": "__notebook__.ipynb",
   "parameters": {},
   "start_time": "2023-04-03T22:41:02.077239",
   "version": "2.4.0"
  }
 },
 "nbformat": 4,
 "nbformat_minor": 5
}
